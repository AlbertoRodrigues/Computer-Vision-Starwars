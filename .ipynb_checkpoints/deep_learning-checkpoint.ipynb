{
 "cells": [
  {
   "cell_type": "code",
   "execution_count": 16,
   "metadata": {},
   "outputs": [],
   "source": [
    "import splitfolders\n",
    "import torch.nn as nn\n",
    "import torch\n",
    "import torch.nn.functional as F\n",
    "import numpy as np\n",
    "import torch.optim as optim\n",
    "from torchvision import datasets, transforms\n",
    "from torchvision.io import read_image\n",
    "from torch.utils.data import Dataset\n",
    "import cv2\n",
    "import os, os.path\n",
    "import pandas as pd\n",
    "import string    \n",
    "import random \n",
    "import shutil\n",
    "import torchvision\n",
    "import time\n",
    "from torch.optim import lr_scheduler"
   ]
  },
  {
   "cell_type": "markdown",
   "metadata": {},
   "source": [
    "#### Antes de realizar a tarefa 1, é necessário fazer alguns pré- processamentos, pois algumas imagens estão dando problemas para o Pytorch e por isso irei excluir este imagens, que não vai afetar o processo geral porque são poucas imagens(20, 25 imagens)."
   ]
  },
  {
   "cell_type": "markdown",
   "metadata": {},
   "source": [
    "#### Logo, irei fazer a tarefa 2 primeiro, que já cuida dessa parte. Através da classe do pytorch para ler a imagem eu consigo ver se a imagem é problemática ou não, com isso eu decidi excluir se a imagem for. "
   ]
  },
  {
   "cell_type": "markdown",
   "metadata": {},
   "source": [
    "# Tarefa 2"
   ]
  },
  {
   "cell_type": "markdown",
   "metadata": {},
   "source": [
    "#### Algumas imagens tem os mesmo nomes, então eu estou renomeando todas aleatoriamente."
   ]
  },
  {
   "cell_type": "code",
   "execution_count": 17,
   "metadata": {},
   "outputs": [],
   "source": [
    "DIR1=\"todas_imagens\\\\Darth Vader\"\n",
    "files1=[name for name in os.listdir(DIR1) if os.path.isfile(os.path.join(DIR1, name))]\n",
    "DIR2=\"todas_imagens\\\\Stormtrooper\"\n",
    "files2=[name for name in os.listdir(DIR2) if os.path.isfile(os.path.join(DIR2, name))]\n",
    "DIR3=\"todas_imagens\\\\Yoda\"\n",
    "files3=[name for name in os.listdir(DIR3) if os.path.isfile(os.path.join(DIR3, name))]"
   ]
  },
  {
   "cell_type": "code",
   "execution_count": 18,
   "metadata": {},
   "outputs": [],
   "source": [
    "for i in files1:\n",
    "    ran = ''.join(random.choices(string.ascii_uppercase + string.digits, k = 30))    \n",
    "    os.rename(\"todas_imagens\\\\Darth Vader\\\\\"+i,str(\"todas_imagens\\\\Darth Vader\\\\\"+ran+\".jpg\"))    \n",
    "\n",
    "for i in files2:\n",
    "    ran = ''.join(random.choices(string.ascii_uppercase + string.digits, k = 30))    \n",
    "    os.rename(\"todas_imagens\\\\Stormtrooper\\\\\"+i,str(\"todas_imagens\\\\Stormtrooper\\\\\"+ran+\".jpg\"))    \n",
    "\n",
    "for i in files3:\n",
    "    ran = ''.join(random.choices(string.ascii_uppercase + string.digits, k = 30))    \n",
    "    os.rename(\"todas_imagens\\\\Yoda\\\\\"+i,str(\"todas_imagens\\\\Yoda\\\\\"+ran+\".jpg\"))    "
   ]
  },
  {
   "cell_type": "code",
   "execution_count": 19,
   "metadata": {},
   "outputs": [
    {
     "name": "stdout",
     "output_type": "stream",
     "text": [
      "The randomly generated string is : YR21S46TCRHEI10YE48PB145G2L0VP.jpg\n"
     ]
    }
   ],
   "source": [
    "# Exemplo do nome\n",
    "ran = ''.join(random.choices(string.ascii_uppercase + string.digits, k = 30))    \n",
    "print(\"The randomly generated string is : \" + str(ran+\".jpg\")) # print the random data"
   ]
  },
  {
   "cell_type": "markdown",
   "metadata": {},
   "source": [
    "#### Classe que irei usar para o Pytorch, futuramente terá um arquivo com os nomes dos arquivos e suas respectivas classes, e com isso eu irei carregar as imagens de treino, validação e teste. Além disso, através dela é que será possível verificar se uma imagem é problemática ou não, a partir daí eu decido excluir ou não."
   ]
  },
  {
   "cell_type": "code",
   "execution_count": 20,
   "metadata": {},
   "outputs": [],
   "source": [
    "class ImageDataset(Dataset):\n",
    "    def __init__(self, annotations_file, img_dir, transform=None, target_transform=None):\n",
    "        self.img_labels = annotations_file\n",
    "        self.img_dir = img_dir\n",
    "        self.transform = transform\n",
    "        self.target_transform = target_transform\n",
    "    \n",
    "    def __len__(self):\n",
    "        return len(self.img_labels)\n",
    "    \n",
    "    def __getitem__(self, idx):\n",
    "        img_path = os.path.join(self.img_dir, self.img_labels.iloc[idx, 0])\n",
    "        image = read_image(img_path)\n",
    "        label = self.img_labels.iloc[idx, 1]\n",
    "        if self.transform:\n",
    "            image = self.transform(image)\n",
    "        if self.target_transform:\n",
    "            label = self.target_transform(label)\n",
    "        return image, label"
   ]
  },
  {
   "cell_type": "markdown",
   "metadata": {},
   "source": [
    "#### Transformações usadas nas imagens, escolhi transformar elas em cinza e em seguida reduzir o tamanho para 140 linhas e 140 colunas."
   ]
  },
  {
   "cell_type": "code",
   "execution_count": 21,
   "metadata": {},
   "outputs": [],
   "source": [
    "transform_imgs = transforms.Compose([\n",
    "transforms.Grayscale(), transforms.CenterCrop(140)])"
   ]
  },
  {
   "cell_type": "markdown",
   "metadata": {},
   "source": [
    "#### Existem algumas imagens problemáticas na classe Stormtrooper e Yoda. Logo, vou excluir essas imagens para continuar o processo."
   ]
  },
  {
   "cell_type": "code",
   "execution_count": 22,
   "metadata": {},
   "outputs": [
    {
     "name": "stdout",
     "output_type": "stream",
     "text": [
      "torch.Size([1, 140, 140])\n",
      "torch.Size([1, 140, 140])\n",
      "torch.Size([1, 140, 140])\n",
      "torch.Size([1, 140, 140])\n",
      "torch.Size([1, 140, 140])\n",
      "torch.Size([1, 140, 140])\n",
      "torch.Size([1, 140, 140])\n",
      "torch.Size([1, 140, 140])\n",
      "torch.Size([1, 140, 140])\n",
      "torch.Size([1, 140, 140])\n",
      "torch.Size([1, 140, 140])\n",
      "torch.Size([1, 140, 140])\n",
      "torch.Size([1, 140, 140])\n",
      "torch.Size([1, 140, 140])\n",
      "torch.Size([1, 140, 140])\n",
      "torch.Size([1, 140, 140])\n",
      "torch.Size([1, 140, 140])\n",
      "torch.Size([1, 140, 140])\n",
      "torch.Size([1, 140, 140])\n",
      "torch.Size([1, 140, 140])\n",
      "torch.Size([1, 140, 140])\n",
      "torch.Size([1, 140, 140])\n",
      "torch.Size([1, 140, 140])\n",
      "torch.Size([1, 140, 140])\n",
      "torch.Size([1, 140, 140])\n",
      "torch.Size([1, 140, 140])\n",
      "torch.Size([1, 140, 140])\n",
      "torch.Size([1, 140, 140])\n",
      "torch.Size([1, 140, 140])\n",
      "torch.Size([1, 140, 140])\n",
      "torch.Size([1, 140, 140])\n",
      "torch.Size([1, 140, 140])\n",
      "torch.Size([1, 140, 140])\n",
      "torch.Size([1, 140, 140])\n",
      "torch.Size([1, 140, 140])\n",
      "torch.Size([1, 140, 140])\n",
      "torch.Size([1, 140, 140])\n",
      "torch.Size([1, 140, 140])\n",
      "torch.Size([1, 140, 140])\n",
      "torch.Size([1, 140, 140])\n",
      "torch.Size([1, 140, 140])\n",
      "torch.Size([1, 140, 140])\n",
      "torch.Size([1, 140, 140])\n",
      "torch.Size([1, 140, 140])\n",
      "torch.Size([1, 140, 140])\n",
      "torch.Size([1, 140, 140])\n",
      "torch.Size([1, 140, 140])\n",
      "torch.Size([1, 140, 140])\n",
      "torch.Size([1, 140, 140])\n",
      "torch.Size([1, 140, 140])\n",
      "torch.Size([1, 140, 140])\n",
      "torch.Size([1, 140, 140])\n",
      "torch.Size([1, 140, 140])\n",
      "torch.Size([1, 140, 140])\n",
      "torch.Size([1, 140, 140])\n",
      "torch.Size([1, 140, 140])\n",
      "torch.Size([1, 140, 140])\n",
      "torch.Size([1, 140, 140])\n",
      "torch.Size([1, 140, 140])\n",
      "torch.Size([1, 140, 140])\n",
      "torch.Size([1, 140, 140])\n",
      "torch.Size([1, 140, 140])\n",
      "torch.Size([1, 140, 140])\n",
      "torch.Size([1, 140, 140])\n",
      "torch.Size([1, 140, 140])\n",
      "torch.Size([1, 140, 140])\n",
      "torch.Size([1, 140, 140])\n",
      "torch.Size([1, 140, 140])\n",
      "torch.Size([1, 140, 140])\n",
      "torch.Size([1, 140, 140])\n",
      "torch.Size([1, 140, 140])\n",
      "torch.Size([1, 140, 140])\n",
      "torch.Size([1, 140, 140])\n",
      "torch.Size([1, 140, 140])\n",
      "torch.Size([1, 140, 140])\n",
      "torch.Size([1, 140, 140])\n",
      "torch.Size([1, 140, 140])\n",
      "torch.Size([1, 140, 140])\n",
      "torch.Size([1, 140, 140])\n",
      "torch.Size([1, 140, 140])\n",
      "torch.Size([1, 140, 140])\n",
      "torch.Size([1, 140, 140])\n",
      "torch.Size([1, 140, 140])\n",
      "torch.Size([1, 140, 140])\n",
      "torch.Size([1, 140, 140])\n",
      "torch.Size([1, 140, 140])\n",
      "torch.Size([1, 140, 140])\n",
      "torch.Size([1, 140, 140])\n",
      "torch.Size([1, 140, 140])\n",
      "torch.Size([1, 140, 140])\n",
      "torch.Size([1, 140, 140])\n",
      "torch.Size([1, 140, 140])\n",
      "torch.Size([1, 140, 140])\n",
      "torch.Size([1, 140, 140])\n",
      "torch.Size([1, 140, 140])\n",
      "torch.Size([1, 140, 140])\n",
      "torch.Size([1, 140, 140])\n",
      "torch.Size([1, 140, 140])\n",
      "torch.Size([1, 140, 140])\n",
      "torch.Size([1, 140, 140])\n",
      "torch.Size([1, 140, 140])\n",
      "torch.Size([1, 140, 140])\n",
      "torch.Size([1, 140, 140])\n",
      "torch.Size([1, 140, 140])\n",
      "torch.Size([1, 140, 140])\n",
      "torch.Size([1, 140, 140])\n",
      "torch.Size([1, 140, 140])\n",
      "torch.Size([1, 140, 140])\n",
      "torch.Size([1, 140, 140])\n",
      "torch.Size([1, 140, 140])\n",
      "torch.Size([1, 140, 140])\n",
      "torch.Size([1, 140, 140])\n",
      "torch.Size([1, 140, 140])\n",
      "torch.Size([1, 140, 140])\n",
      "torch.Size([1, 140, 140])\n",
      "torch.Size([1, 140, 140])\n",
      "torch.Size([1, 140, 140])\n",
      "torch.Size([1, 140, 140])\n",
      "torch.Size([1, 140, 140])\n",
      "torch.Size([1, 140, 140])\n",
      "torch.Size([1, 140, 140])\n",
      "torch.Size([1, 140, 140])\n",
      "torch.Size([1, 140, 140])\n",
      "torch.Size([1, 140, 140])\n",
      "124\n",
      "torch.Size([1, 140, 140])\n",
      "torch.Size([1, 140, 140])\n",
      "torch.Size([1, 140, 140])\n",
      "torch.Size([1, 140, 140])\n",
      "torch.Size([1, 140, 140])\n",
      "torch.Size([1, 140, 140])\n",
      "torch.Size([1, 140, 140])\n",
      "torch.Size([1, 140, 140])\n",
      "torch.Size([1, 140, 140])\n",
      "torch.Size([1, 140, 140])\n",
      "torch.Size([1, 140, 140])\n",
      "torch.Size([1, 140, 140])\n",
      "torch.Size([1, 140, 140])\n",
      "torch.Size([1, 140, 140])\n",
      "torch.Size([1, 140, 140])\n",
      "torch.Size([1, 140, 140])\n",
      "torch.Size([1, 140, 140])\n",
      "torch.Size([1, 140, 140])\n",
      "torch.Size([1, 140, 140])\n",
      "torch.Size([1, 140, 140])\n",
      "torch.Size([1, 140, 140])\n",
      "torch.Size([1, 140, 140])\n",
      "torch.Size([1, 140, 140])\n",
      "torch.Size([1, 140, 140])\n",
      "torch.Size([1, 140, 140])\n",
      "torch.Size([1, 140, 140])\n",
      "torch.Size([1, 140, 140])\n",
      "torch.Size([1, 140, 140])\n",
      "torch.Size([1, 140, 140])\n",
      "torch.Size([1, 140, 140])\n",
      "torch.Size([1, 140, 140])\n",
      "torch.Size([1, 140, 140])\n",
      "torch.Size([1, 140, 140])\n",
      "torch.Size([1, 140, 140])\n",
      "torch.Size([1, 140, 140])\n",
      "torch.Size([1, 140, 140])\n",
      "torch.Size([1, 140, 140])\n",
      "torch.Size([1, 140, 140])\n",
      "torch.Size([1, 140, 140])\n",
      "torch.Size([1, 140, 140])\n",
      "torch.Size([1, 140, 140])\n",
      "torch.Size([1, 140, 140])\n",
      "torch.Size([1, 140, 140])\n",
      "torch.Size([1, 140, 140])\n",
      "torch.Size([1, 140, 140])\n",
      "torch.Size([1, 140, 140])\n",
      "torch.Size([1, 140, 140])\n",
      "torch.Size([1, 140, 140])\n",
      "torch.Size([1, 140, 140])\n",
      "torch.Size([1, 140, 140])\n",
      "torch.Size([1, 140, 140])\n",
      "torch.Size([1, 140, 140])\n",
      "torch.Size([1, 140, 140])\n",
      "torch.Size([1, 140, 140])\n",
      "torch.Size([1, 140, 140])\n",
      "torch.Size([1, 140, 140])\n",
      "torch.Size([1, 140, 140])\n",
      "torch.Size([1, 140, 140])\n",
      "torch.Size([1, 140, 140])\n",
      "torch.Size([1, 140, 140])\n",
      "torch.Size([1, 140, 140])\n",
      "torch.Size([1, 140, 140])\n",
      "torch.Size([1, 140, 140])\n",
      "torch.Size([1, 140, 140])\n",
      "torch.Size([1, 140, 140])\n",
      "torch.Size([1, 140, 140])\n",
      "torch.Size([1, 140, 140])\n",
      "torch.Size([1, 140, 140])\n",
      "torch.Size([1, 140, 140])\n",
      "torch.Size([1, 140, 140])\n",
      "torch.Size([1, 140, 140])\n",
      "torch.Size([1, 140, 140])\n",
      "torch.Size([1, 140, 140])\n",
      "torch.Size([1, 140, 140])\n",
      "torch.Size([1, 140, 140])\n",
      "torch.Size([1, 140, 140])\n",
      "torch.Size([1, 140, 140])\n",
      "torch.Size([1, 140, 140])\n",
      "torch.Size([1, 140, 140])\n",
      "torch.Size([1, 140, 140])\n",
      "torch.Size([1, 140, 140])\n",
      "torch.Size([1, 140, 140])\n",
      "torch.Size([1, 140, 140])\n",
      "torch.Size([1, 140, 140])\n",
      "torch.Size([1, 140, 140])\n",
      "torch.Size([1, 140, 140])\n",
      "torch.Size([1, 140, 140])\n",
      "torch.Size([1, 140, 140])\n",
      "torch.Size([1, 140, 140])\n",
      "torch.Size([1, 140, 140])\n",
      "torch.Size([1, 140, 140])\n",
      "torch.Size([1, 140, 140])\n",
      "torch.Size([1, 140, 140])\n",
      "torch.Size([1, 140, 140])\n",
      "torch.Size([1, 140, 140])\n",
      "torch.Size([1, 140, 140])\n",
      "torch.Size([1, 140, 140])\n",
      "torch.Size([1, 140, 140])\n",
      "torch.Size([1, 140, 140])\n",
      "torch.Size([1, 140, 140])\n",
      "torch.Size([1, 140, 140])\n",
      "torch.Size([1, 140, 140])\n",
      "torch.Size([1, 140, 140])\n",
      "torch.Size([1, 140, 140])\n",
      "torch.Size([1, 140, 140])\n",
      "torch.Size([1, 140, 140])\n",
      "torch.Size([1, 140, 140])\n",
      "torch.Size([1, 140, 140])\n",
      "torch.Size([1, 140, 140])\n",
      "torch.Size([1, 140, 140])\n",
      "torch.Size([1, 140, 140])\n",
      "torch.Size([1, 140, 140])\n",
      "torch.Size([1, 140, 140])\n",
      "torch.Size([1, 140, 140])\n",
      "torch.Size([1, 140, 140])\n",
      "torch.Size([1, 140, 140])\n",
      "torch.Size([1, 140, 140])\n",
      "torch.Size([1, 140, 140])\n",
      "torch.Size([1, 140, 140])\n",
      "torch.Size([1, 140, 140])\n",
      "torch.Size([1, 140, 140])\n",
      "torch.Size([1, 140, 140])\n",
      "torch.Size([1, 140, 140])\n",
      "torch.Size([1, 140, 140])\n",
      "torch.Size([1, 140, 140])\n",
      "torch.Size([1, 140, 140])\n",
      "torch.Size([1, 140, 140])\n",
      "torch.Size([1, 140, 140])\n",
      "torch.Size([1, 140, 140])\n",
      "torch.Size([1, 140, 140])\n",
      "255\n",
      "torch.Size([1, 140, 140])\n",
      "torch.Size([1, 140, 140])\n",
      "torch.Size([1, 140, 140])\n",
      "259\n",
      "torch.Size([1, 140, 140])\n",
      "torch.Size([1, 140, 140])\n",
      "torch.Size([1, 140, 140])\n",
      "torch.Size([1, 140, 140])\n",
      "torch.Size([1, 140, 140])\n",
      "torch.Size([1, 140, 140])\n",
      "torch.Size([1, 140, 140])\n",
      "torch.Size([1, 140, 140])\n",
      "torch.Size([1, 140, 140])\n",
      "torch.Size([1, 140, 140])\n",
      "torch.Size([1, 140, 140])\n",
      "torch.Size([1, 140, 140])\n",
      "torch.Size([1, 140, 140])\n",
      "torch.Size([1, 140, 140])\n",
      "torch.Size([1, 140, 140])\n",
      "torch.Size([1, 140, 140])\n",
      "torch.Size([1, 140, 140])\n",
      "torch.Size([1, 140, 140])\n",
      "torch.Size([1, 140, 140])\n",
      "torch.Size([1, 140, 140])\n",
      "torch.Size([1, 140, 140])\n",
      "torch.Size([1, 140, 140])\n",
      "torch.Size([1, 140, 140])\n",
      "torch.Size([1, 140, 140])\n",
      "torch.Size([1, 140, 140])\n",
      "torch.Size([1, 140, 140])\n",
      "torch.Size([1, 140, 140])\n",
      "torch.Size([1, 140, 140])\n",
      "torch.Size([1, 140, 140])\n",
      "torch.Size([1, 140, 140])\n",
      "torch.Size([1, 140, 140])\n",
      "torch.Size([1, 140, 140])\n",
      "torch.Size([1, 140, 140])\n",
      "torch.Size([1, 140, 140])\n",
      "torch.Size([1, 140, 140])\n",
      "295\n",
      "torch.Size([1, 140, 140])\n",
      "torch.Size([1, 140, 140])\n",
      "torch.Size([1, 140, 140])\n",
      "torch.Size([1, 140, 140])\n",
      "torch.Size([1, 140, 140])\n",
      "torch.Size([1, 140, 140])\n",
      "torch.Size([1, 140, 140])\n",
      "torch.Size([1, 140, 140])\n",
      "torch.Size([1, 140, 140])\n",
      "torch.Size([1, 140, 140])\n",
      "torch.Size([1, 140, 140])\n",
      "torch.Size([1, 140, 140])\n",
      "torch.Size([1, 140, 140])\n",
      "torch.Size([1, 140, 140])\n",
      "torch.Size([1, 140, 140])\n",
      "torch.Size([1, 140, 140])\n",
      "torch.Size([1, 140, 140])\n",
      "torch.Size([1, 140, 140])\n",
      "torch.Size([1, 140, 140])\n",
      "torch.Size([1, 140, 140])\n",
      "torch.Size([1, 140, 140])\n",
      "torch.Size([1, 140, 140])\n",
      "torch.Size([1, 140, 140])\n",
      "torch.Size([1, 140, 140])\n",
      "torch.Size([1, 140, 140])\n",
      "torch.Size([1, 140, 140])\n",
      "torch.Size([1, 140, 140])\n",
      "torch.Size([1, 140, 140])\n",
      "torch.Size([1, 140, 140])\n",
      "torch.Size([1, 140, 140])\n",
      "torch.Size([1, 140, 140])\n",
      "torch.Size([1, 140, 140])\n",
      "torch.Size([1, 140, 140])\n"
     ]
    },
    {
     "name": "stdout",
     "output_type": "stream",
     "text": [
      "torch.Size([1, 140, 140])\n",
      "torch.Size([1, 140, 140])\n",
      "torch.Size([1, 140, 140])\n",
      "torch.Size([1, 140, 140])\n",
      "torch.Size([1, 140, 140])\n",
      "torch.Size([1, 140, 140])\n",
      "torch.Size([1, 140, 140])\n",
      "torch.Size([1, 140, 140])\n",
      "torch.Size([1, 140, 140])\n",
      "torch.Size([1, 140, 140])\n",
      "torch.Size([1, 140, 140])\n",
      "torch.Size([1, 140, 140])\n",
      "torch.Size([1, 140, 140])\n",
      "torch.Size([1, 140, 140])\n",
      "torch.Size([1, 140, 140])\n",
      "torch.Size([1, 140, 140])\n",
      "torch.Size([1, 140, 140])\n",
      "torch.Size([1, 140, 140])\n",
      "torch.Size([1, 140, 140])\n",
      "torch.Size([1, 140, 140])\n",
      "torch.Size([1, 140, 140])\n",
      "torch.Size([1, 140, 140])\n",
      "torch.Size([1, 140, 140])\n",
      "torch.Size([1, 140, 140])\n",
      "torch.Size([1, 140, 140])\n",
      "torch.Size([1, 140, 140])\n",
      "torch.Size([1, 140, 140])\n",
      "torch.Size([1, 140, 140])\n",
      "torch.Size([1, 140, 140])\n",
      "torch.Size([1, 140, 140])\n",
      "torch.Size([1, 140, 140])\n",
      "torch.Size([1, 140, 140])\n",
      "torch.Size([1, 140, 140])\n",
      "torch.Size([1, 140, 140])\n",
      "torch.Size([1, 140, 140])\n",
      "torch.Size([1, 140, 140])\n",
      "torch.Size([1, 140, 140])\n",
      "torch.Size([1, 140, 140])\n",
      "torch.Size([1, 140, 140])\n",
      "torch.Size([1, 140, 140])\n",
      "torch.Size([1, 140, 140])\n",
      "torch.Size([1, 140, 140])\n",
      "torch.Size([1, 140, 140])\n",
      "torch.Size([1, 140, 140])\n",
      "torch.Size([1, 140, 140])\n",
      "torch.Size([1, 140, 140])\n",
      "torch.Size([1, 140, 140])\n",
      "torch.Size([1, 140, 140])\n",
      "torch.Size([1, 140, 140])\n",
      "torch.Size([1, 140, 140])\n",
      "torch.Size([1, 140, 140])\n",
      "torch.Size([1, 140, 140])\n",
      "torch.Size([1, 140, 140])\n",
      "torch.Size([1, 140, 140])\n",
      "torch.Size([1, 140, 140])\n",
      "torch.Size([1, 140, 140])\n",
      "torch.Size([1, 140, 140])\n",
      "torch.Size([1, 140, 140])\n",
      "torch.Size([1, 140, 140])\n",
      "torch.Size([1, 140, 140])\n",
      "torch.Size([1, 140, 140])\n",
      "torch.Size([1, 140, 140])\n",
      "torch.Size([1, 140, 140])\n",
      "torch.Size([1, 140, 140])\n",
      "393\n",
      "torch.Size([1, 140, 140])\n",
      "torch.Size([1, 140, 140])\n",
      "torch.Size([1, 140, 140])\n",
      "torch.Size([1, 140, 140])\n",
      "torch.Size([1, 140, 140])\n",
      "torch.Size([1, 140, 140])\n",
      "torch.Size([1, 140, 140])\n",
      "torch.Size([1, 140, 140])\n",
      "torch.Size([1, 140, 140])\n",
      "torch.Size([1, 140, 140])\n",
      "torch.Size([1, 140, 140])\n",
      "torch.Size([1, 140, 140])\n",
      "torch.Size([1, 140, 140])\n",
      "torch.Size([1, 140, 140])\n",
      "torch.Size([1, 140, 140])\n",
      "torch.Size([1, 140, 140])\n",
      "torch.Size([1, 140, 140])\n",
      "torch.Size([1, 140, 140])\n",
      "torch.Size([1, 140, 140])\n",
      "torch.Size([1, 140, 140])\n",
      "torch.Size([1, 140, 140])\n",
      "torch.Size([1, 140, 140])\n",
      "torch.Size([1, 140, 140])\n",
      "torch.Size([1, 140, 140])\n",
      "torch.Size([1, 140, 140])\n",
      "torch.Size([1, 140, 140])\n",
      "torch.Size([1, 140, 140])\n",
      "torch.Size([1, 140, 140])\n",
      "torch.Size([1, 140, 140])\n",
      "torch.Size([1, 140, 140])\n",
      "torch.Size([1, 140, 140])\n",
      "torch.Size([1, 140, 140])\n",
      "torch.Size([1, 140, 140])\n",
      "torch.Size([1, 140, 140])\n",
      "torch.Size([1, 140, 140])\n",
      "torch.Size([1, 140, 140])\n",
      "torch.Size([1, 140, 140])\n",
      "torch.Size([1, 140, 140])\n",
      "torch.Size([1, 140, 140])\n",
      "torch.Size([1, 140, 140])\n",
      "torch.Size([1, 140, 140])\n",
      "torch.Size([1, 140, 140])\n",
      "torch.Size([1, 140, 140])\n",
      "torch.Size([1, 140, 140])\n",
      "torch.Size([1, 140, 140])\n",
      "torch.Size([1, 140, 140])\n",
      "torch.Size([1, 140, 140])\n",
      "torch.Size([1, 140, 140])\n",
      "torch.Size([1, 140, 140])\n",
      "torch.Size([1, 140, 140])\n",
      "torch.Size([1, 140, 140])\n",
      "torch.Size([1, 140, 140])\n",
      "torch.Size([1, 140, 140])\n",
      "torch.Size([1, 140, 140])\n",
      "torch.Size([1, 140, 140])\n",
      "torch.Size([1, 140, 140])\n",
      "torch.Size([1, 140, 140])\n",
      "torch.Size([1, 140, 140])\n",
      "torch.Size([1, 140, 140])\n",
      "torch.Size([1, 140, 140])\n",
      "torch.Size([1, 140, 140])\n",
      "torch.Size([1, 140, 140])\n",
      "torch.Size([1, 140, 140])\n",
      "torch.Size([1, 140, 140])\n",
      "torch.Size([1, 140, 140])\n",
      "torch.Size([1, 140, 140])\n",
      "torch.Size([1, 140, 140])\n",
      "torch.Size([1, 140, 140])\n",
      "torch.Size([1, 140, 140])\n",
      "torch.Size([1, 140, 140])\n",
      "torch.Size([1, 140, 140])\n",
      "torch.Size([1, 140, 140])\n",
      "torch.Size([1, 140, 140])\n",
      "torch.Size([1, 140, 140])\n",
      "torch.Size([1, 140, 140])\n",
      "torch.Size([1, 140, 140])\n",
      "torch.Size([1, 140, 140])\n",
      "torch.Size([1, 140, 140])\n",
      "torch.Size([1, 140, 140])\n",
      "torch.Size([1, 140, 140])\n",
      "torch.Size([1, 140, 140])\n",
      "torch.Size([1, 140, 140])\n",
      "torch.Size([1, 140, 140])\n",
      "torch.Size([1, 140, 140])\n",
      "torch.Size([1, 140, 140])\n",
      "torch.Size([1, 140, 140])\n",
      "torch.Size([1, 140, 140])\n",
      "torch.Size([1, 140, 140])\n",
      "torch.Size([1, 140, 140])\n",
      "torch.Size([1, 140, 140])\n",
      "torch.Size([1, 140, 140])\n",
      "torch.Size([1, 140, 140])\n",
      "torch.Size([1, 140, 140])\n",
      "torch.Size([1, 140, 140])\n",
      "torch.Size([1, 140, 140])\n",
      "torch.Size([1, 140, 140])\n",
      "torch.Size([1, 140, 140])\n",
      "torch.Size([1, 140, 140])\n",
      "torch.Size([1, 140, 140])\n",
      "torch.Size([1, 140, 140])\n",
      "torch.Size([1, 140, 140])\n",
      "torch.Size([1, 140, 140])\n",
      "torch.Size([1, 140, 140])\n",
      "torch.Size([1, 140, 140])\n",
      "torch.Size([1, 140, 140])\n",
      "torch.Size([1, 140, 140])\n",
      "torch.Size([1, 140, 140])\n",
      "torch.Size([1, 140, 140])\n",
      "torch.Size([1, 140, 140])\n",
      "torch.Size([1, 140, 140])\n",
      "torch.Size([1, 140, 140])\n",
      "torch.Size([1, 140, 140])\n",
      "torch.Size([1, 140, 140])\n",
      "torch.Size([1, 140, 140])\n",
      "torch.Size([1, 140, 140])\n",
      "torch.Size([1, 140, 140])\n",
      "torch.Size([1, 140, 140])\n",
      "torch.Size([1, 140, 140])\n",
      "torch.Size([1, 140, 140])\n",
      "torch.Size([1, 140, 140])\n",
      "torch.Size([1, 140, 140])\n",
      "torch.Size([1, 140, 140])\n",
      "torch.Size([1, 140, 140])\n",
      "torch.Size([1, 140, 140])\n",
      "torch.Size([1, 140, 140])\n",
      "torch.Size([1, 140, 140])\n",
      "torch.Size([1, 140, 140])\n",
      "torch.Size([1, 140, 140])\n",
      "torch.Size([1, 140, 140])\n",
      "torch.Size([1, 140, 140])\n",
      "torch.Size([1, 140, 140])\n",
      "torch.Size([1, 140, 140])\n",
      "torch.Size([1, 140, 140])\n",
      "torch.Size([1, 140, 140])\n",
      "torch.Size([1, 140, 140])\n",
      "torch.Size([1, 140, 140])\n",
      "torch.Size([1, 140, 140])\n",
      "torch.Size([1, 140, 140])\n",
      "torch.Size([1, 140, 140])\n",
      "torch.Size([1, 140, 140])\n",
      "torch.Size([1, 140, 140])\n",
      "torch.Size([1, 140, 140])\n",
      "torch.Size([1, 140, 140])\n",
      "torch.Size([1, 140, 140])\n",
      "torch.Size([1, 140, 140])\n",
      "torch.Size([1, 140, 140])\n",
      "torch.Size([1, 140, 140])\n",
      "torch.Size([1, 140, 140])\n",
      "torch.Size([1, 140, 140])\n",
      "torch.Size([1, 140, 140])\n",
      "torch.Size([1, 140, 140])\n",
      "torch.Size([1, 140, 140])\n",
      "torch.Size([1, 140, 140])\n",
      "torch.Size([1, 140, 140])\n",
      "torch.Size([1, 140, 140])\n",
      "torch.Size([1, 140, 140])\n",
      "torch.Size([1, 140, 140])\n",
      "torch.Size([1, 140, 140])\n",
      "torch.Size([1, 140, 140])\n",
      "torch.Size([1, 140, 140])\n",
      "torch.Size([1, 140, 140])\n",
      "torch.Size([1, 140, 140])\n",
      "torch.Size([1, 140, 140])\n",
      "torch.Size([1, 140, 140])\n",
      "torch.Size([1, 140, 140])\n",
      "torch.Size([1, 140, 140])\n",
      "torch.Size([1, 140, 140])\n",
      "torch.Size([1, 140, 140])\n",
      "torch.Size([1, 140, 140])\n",
      "torch.Size([1, 140, 140])\n",
      "torch.Size([1, 140, 140])\n",
      "torch.Size([1, 140, 140])\n",
      "torch.Size([1, 140, 140])\n",
      "torch.Size([1, 140, 140])\n",
      "torch.Size([1, 140, 140])\n",
      "torch.Size([1, 140, 140])\n",
      "torch.Size([1, 140, 140])\n",
      "torch.Size([1, 140, 140])\n",
      "torch.Size([1, 140, 140])\n",
      "torch.Size([1, 140, 140])\n",
      "torch.Size([1, 140, 140])\n",
      "torch.Size([1, 140, 140])\n",
      "torch.Size([1, 140, 140])\n",
      "torch.Size([1, 140, 140])\n",
      "torch.Size([1, 140, 140])\n",
      "torch.Size([1, 140, 140])\n",
      "torch.Size([1, 140, 140])\n",
      "torch.Size([1, 140, 140])\n",
      "torch.Size([1, 140, 140])\n",
      "torch.Size([1, 140, 140])\n",
      "torch.Size([1, 140, 140])\n",
      "torch.Size([1, 140, 140])\n",
      "torch.Size([1, 140, 140])\n",
      "torch.Size([1, 140, 140])\n",
      "torch.Size([1, 140, 140])\n",
      "torch.Size([1, 140, 140])\n",
      "torch.Size([1, 140, 140])\n",
      "torch.Size([1, 140, 140])\n",
      "torch.Size([1, 140, 140])\n",
      "torch.Size([1, 140, 140])\n",
      "torch.Size([1, 140, 140])\n",
      "torch.Size([1, 140, 140])\n",
      "torch.Size([1, 140, 140])\n",
      "torch.Size([1, 140, 140])\n",
      "torch.Size([1, 140, 140])\n",
      "torch.Size([1, 140, 140])\n",
      "torch.Size([1, 140, 140])\n",
      "torch.Size([1, 140, 140])\n",
      "torch.Size([1, 140, 140])\n",
      "torch.Size([1, 140, 140])\n",
      "torch.Size([1, 140, 140])\n",
      "torch.Size([1, 140, 140])\n",
      "torch.Size([1, 140, 140])\n",
      "torch.Size([1, 140, 140])\n",
      "torch.Size([1, 140, 140])\n",
      "torch.Size([1, 140, 140])\n",
      "torch.Size([1, 140, 140])\n",
      "torch.Size([1, 140, 140])\n",
      "torch.Size([1, 140, 140])\n",
      "torch.Size([1, 140, 140])\n",
      "torch.Size([1, 140, 140])\n",
      "torch.Size([1, 140, 140])\n",
      "torch.Size([1, 140, 140])\n",
      "torch.Size([1, 140, 140])\n",
      "torch.Size([1, 140, 140])\n",
      "torch.Size([1, 140, 140])\n",
      "torch.Size([1, 140, 140])\n",
      "torch.Size([1, 140, 140])\n",
      "torch.Size([1, 140, 140])\n",
      "torch.Size([1, 140, 140])\n",
      "torch.Size([1, 140, 140])\n",
      "torch.Size([1, 140, 140])\n",
      "torch.Size([1, 140, 140])\n",
      "torch.Size([1, 140, 140])\n",
      "torch.Size([1, 140, 140])\n",
      "torch.Size([1, 140, 140])\n",
      "torch.Size([1, 140, 140])\n",
      "torch.Size([1, 140, 140])\n",
      "torch.Size([1, 140, 140])\n",
      "torch.Size([1, 140, 140])\n",
      "torch.Size([1, 140, 140])\n",
      "torch.Size([1, 140, 140])\n",
      "torch.Size([1, 140, 140])\n",
      "torch.Size([1, 140, 140])\n",
      "torch.Size([1, 140, 140])\n",
      "torch.Size([1, 140, 140])\n",
      "torch.Size([1, 140, 140])\n",
      "torch.Size([1, 140, 140])\n",
      "torch.Size([1, 140, 140])\n",
      "torch.Size([1, 140, 140])\n",
      "torch.Size([1, 140, 140])\n",
      "torch.Size([1, 140, 140])\n",
      "646\n",
      "torch.Size([1, 140, 140])\n",
      "torch.Size([1, 140, 140])\n",
      "A quantidade de imgs problematicas eh:  6\n"
     ]
    }
   ],
   "source": [
    "#Classe Stormtrooper\n",
    "DIR1=\"todas_imagens\\\\Stormtrooper\"\n",
    "storm=[name for name in os.listdir(DIR1) if os.path.isfile(os.path.join(DIR1, name))]\n",
    "storm=pd.DataFrame(np.column_stack((storm,np.array([0]*len(storm)))),columns=[\"nome_arquivo\",\"classe\"])\n",
    "storm_imgs=ImageDataset(storm, DIR1, transform_imgs)\n",
    "\n",
    "cont=0\n",
    "for i in range(len(storm_imgs)):\n",
    "    try:\n",
    "        print(storm_imgs[i][0].shape) \n",
    "    except:\n",
    "        cont=cont+1\n",
    "        print(i)\n",
    "        img_exc=\"todas_imagens\\\\Stormtrooper\\\\\"+storm.iloc[i,0]\n",
    "        os.remove(img_exc)\n",
    "#Quantidade de imagens excluidas        \n",
    "print(\"A quantidade de imgs problematicas eh: \", cont)"
   ]
  },
  {
   "cell_type": "code",
   "execution_count": 23,
   "metadata": {},
   "outputs": [
    {
     "name": "stdout",
     "output_type": "stream",
     "text": [
      "torch.Size([1, 140, 140])\n",
      "torch.Size([1, 140, 140])\n",
      "torch.Size([1, 140, 140])\n",
      "torch.Size([1, 140, 140])\n",
      "torch.Size([1, 140, 140])\n",
      "torch.Size([1, 140, 140])\n",
      "torch.Size([1, 140, 140])\n",
      "torch.Size([1, 140, 140])\n",
      "torch.Size([1, 140, 140])\n",
      "torch.Size([1, 140, 140])\n",
      "torch.Size([1, 140, 140])\n",
      "11\n",
      "torch.Size([1, 140, 140])\n",
      "torch.Size([1, 140, 140])\n",
      "torch.Size([1, 140, 140])\n",
      "torch.Size([1, 140, 140])\n",
      "torch.Size([1, 140, 140])\n",
      "torch.Size([1, 140, 140])\n",
      "torch.Size([1, 140, 140])\n",
      "torch.Size([1, 140, 140])\n",
      "torch.Size([1, 140, 140])\n",
      "torch.Size([1, 140, 140])\n",
      "torch.Size([1, 140, 140])\n",
      "torch.Size([1, 140, 140])\n",
      "24\n",
      "torch.Size([1, 140, 140])\n",
      "torch.Size([1, 140, 140])\n",
      "torch.Size([1, 140, 140])\n",
      "torch.Size([1, 140, 140])\n",
      "torch.Size([1, 140, 140])\n",
      "torch.Size([1, 140, 140])\n",
      "torch.Size([1, 140, 140])\n",
      "torch.Size([1, 140, 140])\n",
      "torch.Size([1, 140, 140])\n",
      "torch.Size([1, 140, 140])\n",
      "torch.Size([1, 140, 140])\n",
      "torch.Size([1, 140, 140])\n",
      "torch.Size([1, 140, 140])\n",
      "torch.Size([1, 140, 140])\n",
      "torch.Size([1, 140, 140])\n",
      "torch.Size([1, 140, 140])\n",
      "torch.Size([1, 140, 140])\n",
      "torch.Size([1, 140, 140])\n",
      "torch.Size([1, 140, 140])\n",
      "torch.Size([1, 140, 140])\n",
      "torch.Size([1, 140, 140])\n",
      "torch.Size([1, 140, 140])\n",
      "torch.Size([1, 140, 140])\n",
      "torch.Size([1, 140, 140])\n",
      "torch.Size([1, 140, 140])\n",
      "torch.Size([1, 140, 140])\n",
      "torch.Size([1, 140, 140])\n",
      "torch.Size([1, 140, 140])\n",
      "torch.Size([1, 140, 140])\n",
      "torch.Size([1, 140, 140])\n",
      "torch.Size([1, 140, 140])\n",
      "torch.Size([1, 140, 140])\n",
      "torch.Size([1, 140, 140])\n",
      "torch.Size([1, 140, 140])\n",
      "torch.Size([1, 140, 140])\n",
      "torch.Size([1, 140, 140])\n",
      "torch.Size([1, 140, 140])\n",
      "torch.Size([1, 140, 140])\n",
      "torch.Size([1, 140, 140])\n",
      "torch.Size([1, 140, 140])\n",
      "torch.Size([1, 140, 140])\n",
      "torch.Size([1, 140, 140])\n",
      "torch.Size([1, 140, 140])\n",
      "torch.Size([1, 140, 140])\n",
      "torch.Size([1, 140, 140])\n",
      "torch.Size([1, 140, 140])\n",
      "torch.Size([1, 140, 140])\n",
      "torch.Size([1, 140, 140])\n",
      "73\n",
      "74\n",
      "torch.Size([1, 140, 140])\n",
      "torch.Size([1, 140, 140])\n",
      "torch.Size([1, 140, 140])\n",
      "torch.Size([1, 140, 140])\n",
      "torch.Size([1, 140, 140])\n",
      "torch.Size([1, 140, 140])\n",
      "torch.Size([1, 140, 140])\n",
      "torch.Size([1, 140, 140])\n",
      "torch.Size([1, 140, 140])\n",
      "torch.Size([1, 140, 140])\n",
      "torch.Size([1, 140, 140])\n",
      "torch.Size([1, 140, 140])\n",
      "torch.Size([1, 140, 140])\n",
      "torch.Size([1, 140, 140])\n",
      "torch.Size([1, 140, 140])\n",
      "torch.Size([1, 140, 140])\n",
      "torch.Size([1, 140, 140])\n",
      "torch.Size([1, 140, 140])\n",
      "torch.Size([1, 140, 140])\n",
      "torch.Size([1, 140, 140])\n",
      "torch.Size([1, 140, 140])\n",
      "torch.Size([1, 140, 140])\n",
      "torch.Size([1, 140, 140])\n",
      "torch.Size([1, 140, 140])\n",
      "torch.Size([1, 140, 140])\n",
      "torch.Size([1, 140, 140])\n",
      "torch.Size([1, 140, 140])\n",
      "torch.Size([1, 140, 140])\n",
      "torch.Size([1, 140, 140])\n",
      "torch.Size([1, 140, 140])\n",
      "torch.Size([1, 140, 140])\n",
      "torch.Size([1, 140, 140])\n",
      "torch.Size([1, 140, 140])\n",
      "torch.Size([1, 140, 140])\n",
      "torch.Size([1, 140, 140])\n",
      "torch.Size([1, 140, 140])\n",
      "torch.Size([1, 140, 140])\n",
      "torch.Size([1, 140, 140])\n",
      "torch.Size([1, 140, 140])\n",
      "torch.Size([1, 140, 140])\n",
      "torch.Size([1, 140, 140])\n",
      "torch.Size([1, 140, 140])\n",
      "117\n",
      "118\n",
      "torch.Size([1, 140, 140])\n",
      "torch.Size([1, 140, 140])\n",
      "torch.Size([1, 140, 140])\n",
      "torch.Size([1, 140, 140])\n",
      "torch.Size([1, 140, 140])\n",
      "124\n",
      "torch.Size([1, 140, 140])\n",
      "torch.Size([1, 140, 140])\n",
      "torch.Size([1, 140, 140])\n",
      "torch.Size([1, 140, 140])\n",
      "torch.Size([1, 140, 140])\n",
      "torch.Size([1, 140, 140])\n",
      "torch.Size([1, 140, 140])\n",
      "torch.Size([1, 140, 140])\n",
      "torch.Size([1, 140, 140])\n",
      "torch.Size([1, 140, 140])\n",
      "torch.Size([1, 140, 140])\n",
      "torch.Size([1, 140, 140])\n",
      "torch.Size([1, 140, 140])\n",
      "torch.Size([1, 140, 140])\n",
      "torch.Size([1, 140, 140])\n",
      "torch.Size([1, 140, 140])\n",
      "torch.Size([1, 140, 140])\n",
      "torch.Size([1, 140, 140])\n",
      "torch.Size([1, 140, 140])\n",
      "torch.Size([1, 140, 140])\n",
      "torch.Size([1, 140, 140])\n",
      "torch.Size([1, 140, 140])\n",
      "torch.Size([1, 140, 140])\n",
      "torch.Size([1, 140, 140])\n",
      "torch.Size([1, 140, 140])\n",
      "torch.Size([1, 140, 140])\n",
      "torch.Size([1, 140, 140])\n",
      "torch.Size([1, 140, 140])\n",
      "torch.Size([1, 140, 140])\n",
      "torch.Size([1, 140, 140])\n",
      "torch.Size([1, 140, 140])\n",
      "torch.Size([1, 140, 140])\n",
      "torch.Size([1, 140, 140])\n",
      "torch.Size([1, 140, 140])\n",
      "torch.Size([1, 140, 140])\n",
      "torch.Size([1, 140, 140])\n",
      "torch.Size([1, 140, 140])\n",
      "torch.Size([1, 140, 140])\n",
      "torch.Size([1, 140, 140])\n",
      "torch.Size([1, 140, 140])\n",
      "torch.Size([1, 140, 140])\n",
      "torch.Size([1, 140, 140])\n",
      "torch.Size([1, 140, 140])\n",
      "torch.Size([1, 140, 140])\n",
      "torch.Size([1, 140, 140])\n",
      "torch.Size([1, 140, 140])\n",
      "torch.Size([1, 140, 140])\n",
      "torch.Size([1, 140, 140])\n",
      "torch.Size([1, 140, 140])\n",
      "torch.Size([1, 140, 140])\n",
      "torch.Size([1, 140, 140])\n",
      "torch.Size([1, 140, 140])\n",
      "torch.Size([1, 140, 140])\n",
      "178\n",
      "torch.Size([1, 140, 140])\n",
      "180\n",
      "torch.Size([1, 140, 140])\n",
      "torch.Size([1, 140, 140])\n",
      "torch.Size([1, 140, 140])\n",
      "torch.Size([1, 140, 140])\n",
      "torch.Size([1, 140, 140])\n",
      "torch.Size([1, 140, 140])\n",
      "torch.Size([1, 140, 140])\n",
      "torch.Size([1, 140, 140])\n",
      "torch.Size([1, 140, 140])\n",
      "torch.Size([1, 140, 140])\n",
      "torch.Size([1, 140, 140])\n",
      "torch.Size([1, 140, 140])\n",
      "torch.Size([1, 140, 140])\n",
      "torch.Size([1, 140, 140])\n",
      "torch.Size([1, 140, 140])\n",
      "torch.Size([1, 140, 140])\n",
      "torch.Size([1, 140, 140])\n",
      "torch.Size([1, 140, 140])\n",
      "torch.Size([1, 140, 140])\n",
      "torch.Size([1, 140, 140])\n",
      "torch.Size([1, 140, 140])\n",
      "torch.Size([1, 140, 140])\n",
      "torch.Size([1, 140, 140])\n",
      "torch.Size([1, 140, 140])\n",
      "torch.Size([1, 140, 140])\n",
      "torch.Size([1, 140, 140])\n",
      "torch.Size([1, 140, 140])\n",
      "torch.Size([1, 140, 140])\n",
      "torch.Size([1, 140, 140])\n",
      "torch.Size([1, 140, 140])\n",
      "torch.Size([1, 140, 140])\n",
      "torch.Size([1, 140, 140])\n",
      "213\n",
      "torch.Size([1, 140, 140])\n",
      "torch.Size([1, 140, 140])\n",
      "torch.Size([1, 140, 140])\n",
      "torch.Size([1, 140, 140])\n",
      "torch.Size([1, 140, 140])\n",
      "torch.Size([1, 140, 140])\n",
      "torch.Size([1, 140, 140])\n",
      "torch.Size([1, 140, 140])\n",
      "torch.Size([1, 140, 140])\n",
      "torch.Size([1, 140, 140])\n",
      "torch.Size([1, 140, 140])\n",
      "torch.Size([1, 140, 140])\n",
      "torch.Size([1, 140, 140])\n",
      "torch.Size([1, 140, 140])\n",
      "torch.Size([1, 140, 140])\n",
      "torch.Size([1, 140, 140])\n",
      "torch.Size([1, 140, 140])\n",
      "torch.Size([1, 140, 140])\n",
      "torch.Size([1, 140, 140])\n",
      "torch.Size([1, 140, 140])\n",
      "torch.Size([1, 140, 140])\n",
      "torch.Size([1, 140, 140])\n",
      "torch.Size([1, 140, 140])\n",
      "torch.Size([1, 140, 140])\n",
      "torch.Size([1, 140, 140])\n",
      "torch.Size([1, 140, 140])\n",
      "torch.Size([1, 140, 140])\n",
      "torch.Size([1, 140, 140])\n",
      "torch.Size([1, 140, 140])\n",
      "torch.Size([1, 140, 140])\n",
      "torch.Size([1, 140, 140])\n",
      "torch.Size([1, 140, 140])\n",
      "246\n",
      "torch.Size([1, 140, 140])\n",
      "torch.Size([1, 140, 140])\n",
      "torch.Size([1, 140, 140])\n",
      "torch.Size([1, 140, 140])\n",
      "torch.Size([1, 140, 140])\n",
      "torch.Size([1, 140, 140])\n",
      "torch.Size([1, 140, 140])\n",
      "torch.Size([1, 140, 140])\n",
      "torch.Size([1, 140, 140])\n",
      "torch.Size([1, 140, 140])\n",
      "torch.Size([1, 140, 140])\n",
      "torch.Size([1, 140, 140])\n",
      "torch.Size([1, 140, 140])\n",
      "torch.Size([1, 140, 140])\n",
      "torch.Size([1, 140, 140])\n",
      "torch.Size([1, 140, 140])\n",
      "torch.Size([1, 140, 140])\n",
      "torch.Size([1, 140, 140])\n",
      "torch.Size([1, 140, 140])\n",
      "torch.Size([1, 140, 140])\n",
      "torch.Size([1, 140, 140])\n",
      "torch.Size([1, 140, 140])\n",
      "torch.Size([1, 140, 140])\n",
      "torch.Size([1, 140, 140])\n",
      "torch.Size([1, 140, 140])\n",
      "torch.Size([1, 140, 140])\n",
      "torch.Size([1, 140, 140])\n",
      "torch.Size([1, 140, 140])\n",
      "torch.Size([1, 140, 140])\n",
      "torch.Size([1, 140, 140])\n",
      "torch.Size([1, 140, 140])\n",
      "torch.Size([1, 140, 140])\n",
      "torch.Size([1, 140, 140])\n",
      "torch.Size([1, 140, 140])\n",
      "torch.Size([1, 140, 140])\n",
      "torch.Size([1, 140, 140])\n",
      "torch.Size([1, 140, 140])\n",
      "torch.Size([1, 140, 140])\n",
      "torch.Size([1, 140, 140])\n",
      "torch.Size([1, 140, 140])\n",
      "torch.Size([1, 140, 140])\n",
      "torch.Size([1, 140, 140])\n",
      "torch.Size([1, 140, 140])\n",
      "torch.Size([1, 140, 140])\n",
      "torch.Size([1, 140, 140])\n",
      "torch.Size([1, 140, 140])\n",
      "torch.Size([1, 140, 140])\n",
      "torch.Size([1, 140, 140])\n",
      "torch.Size([1, 140, 140])\n",
      "torch.Size([1, 140, 140])\n",
      "torch.Size([1, 140, 140])\n",
      "torch.Size([1, 140, 140])\n",
      "torch.Size([1, 140, 140])\n",
      "torch.Size([1, 140, 140])\n",
      "torch.Size([1, 140, 140])\n",
      "torch.Size([1, 140, 140])\n",
      "torch.Size([1, 140, 140])\n",
      "torch.Size([1, 140, 140])\n",
      "torch.Size([1, 140, 140])\n",
      "torch.Size([1, 140, 140])\n",
      "torch.Size([1, 140, 140])\n",
      "torch.Size([1, 140, 140])\n",
      "torch.Size([1, 140, 140])\n",
      "torch.Size([1, 140, 140])\n",
      "torch.Size([1, 140, 140])\n",
      "torch.Size([1, 140, 140])\n",
      "torch.Size([1, 140, 140])\n",
      "torch.Size([1, 140, 140])\n",
      "torch.Size([1, 140, 140])\n",
      "torch.Size([1, 140, 140])\n",
      "torch.Size([1, 140, 140])\n",
      "318\n",
      "torch.Size([1, 140, 140])\n",
      "320\n",
      "torch.Size([1, 140, 140])\n",
      "torch.Size([1, 140, 140])\n",
      "torch.Size([1, 140, 140])\n",
      "torch.Size([1, 140, 140])\n",
      "torch.Size([1, 140, 140])\n",
      "torch.Size([1, 140, 140])\n"
     ]
    },
    {
     "name": "stdout",
     "output_type": "stream",
     "text": [
      "torch.Size([1, 140, 140])\n",
      "torch.Size([1, 140, 140])\n",
      "torch.Size([1, 140, 140])\n",
      "torch.Size([1, 140, 140])\n",
      "torch.Size([1, 140, 140])\n",
      "torch.Size([1, 140, 140])\n",
      "torch.Size([1, 140, 140])\n",
      "torch.Size([1, 140, 140])\n",
      "torch.Size([1, 140, 140])\n",
      "torch.Size([1, 140, 140])\n",
      "torch.Size([1, 140, 140])\n",
      "torch.Size([1, 140, 140])\n",
      "torch.Size([1, 140, 140])\n",
      "torch.Size([1, 140, 140])\n",
      "torch.Size([1, 140, 140])\n",
      "342\n",
      "torch.Size([1, 140, 140])\n",
      "torch.Size([1, 140, 140])\n",
      "torch.Size([1, 140, 140])\n",
      "torch.Size([1, 140, 140])\n",
      "torch.Size([1, 140, 140])\n",
      "torch.Size([1, 140, 140])\n",
      "torch.Size([1, 140, 140])\n",
      "torch.Size([1, 140, 140])\n",
      "torch.Size([1, 140, 140])\n",
      "torch.Size([1, 140, 140])\n",
      "torch.Size([1, 140, 140])\n",
      "torch.Size([1, 140, 140])\n",
      "torch.Size([1, 140, 140])\n",
      "torch.Size([1, 140, 140])\n",
      "torch.Size([1, 140, 140])\n",
      "torch.Size([1, 140, 140])\n",
      "torch.Size([1, 140, 140])\n",
      "torch.Size([1, 140, 140])\n",
      "torch.Size([1, 140, 140])\n",
      "torch.Size([1, 140, 140])\n",
      "torch.Size([1, 140, 140])\n",
      "torch.Size([1, 140, 140])\n",
      "torch.Size([1, 140, 140])\n",
      "torch.Size([1, 140, 140])\n",
      "torch.Size([1, 140, 140])\n",
      "torch.Size([1, 140, 140])\n",
      "torch.Size([1, 140, 140])\n",
      "torch.Size([1, 140, 140])\n",
      "torch.Size([1, 140, 140])\n",
      "torch.Size([1, 140, 140])\n",
      "torch.Size([1, 140, 140])\n",
      "torch.Size([1, 140, 140])\n",
      "torch.Size([1, 140, 140])\n",
      "376\n",
      "torch.Size([1, 140, 140])\n",
      "torch.Size([1, 140, 140])\n",
      "torch.Size([1, 140, 140])\n",
      "torch.Size([1, 140, 140])\n",
      "torch.Size([1, 140, 140])\n",
      "torch.Size([1, 140, 140])\n",
      "torch.Size([1, 140, 140])\n",
      "torch.Size([1, 140, 140])\n",
      "torch.Size([1, 140, 140])\n",
      "torch.Size([1, 140, 140])\n",
      "387\n",
      "torch.Size([1, 140, 140])\n",
      "torch.Size([1, 140, 140])\n",
      "390\n",
      "torch.Size([1, 140, 140])\n",
      "torch.Size([1, 140, 140])\n",
      "torch.Size([1, 140, 140])\n",
      "torch.Size([1, 140, 140])\n",
      "torch.Size([1, 140, 140])\n",
      "torch.Size([1, 140, 140])\n",
      "torch.Size([1, 140, 140])\n",
      "torch.Size([1, 140, 140])\n",
      "torch.Size([1, 140, 140])\n",
      "torch.Size([1, 140, 140])\n",
      "torch.Size([1, 140, 140])\n",
      "torch.Size([1, 140, 140])\n",
      "torch.Size([1, 140, 140])\n",
      "torch.Size([1, 140, 140])\n",
      "torch.Size([1, 140, 140])\n",
      "torch.Size([1, 140, 140])\n",
      "torch.Size([1, 140, 140])\n",
      "torch.Size([1, 140, 140])\n",
      "torch.Size([1, 140, 140])\n",
      "torch.Size([1, 140, 140])\n",
      "torch.Size([1, 140, 140])\n",
      "torch.Size([1, 140, 140])\n",
      "torch.Size([1, 140, 140])\n",
      "torch.Size([1, 140, 140])\n",
      "torch.Size([1, 140, 140])\n",
      "torch.Size([1, 140, 140])\n",
      "torch.Size([1, 140, 140])\n",
      "torch.Size([1, 140, 140])\n",
      "torch.Size([1, 140, 140])\n",
      "torch.Size([1, 140, 140])\n",
      "torch.Size([1, 140, 140])\n",
      "torch.Size([1, 140, 140])\n",
      "torch.Size([1, 140, 140])\n",
      "torch.Size([1, 140, 140])\n",
      "torch.Size([1, 140, 140])\n",
      "torch.Size([1, 140, 140])\n",
      "torch.Size([1, 140, 140])\n",
      "torch.Size([1, 140, 140])\n",
      "torch.Size([1, 140, 140])\n",
      "torch.Size([1, 140, 140])\n",
      "torch.Size([1, 140, 140])\n",
      "torch.Size([1, 140, 140])\n",
      "torch.Size([1, 140, 140])\n",
      "torch.Size([1, 140, 140])\n",
      "435\n",
      "torch.Size([1, 140, 140])\n",
      "torch.Size([1, 140, 140])\n",
      "torch.Size([1, 140, 140])\n",
      "torch.Size([1, 140, 140])\n",
      "torch.Size([1, 140, 140])\n",
      "torch.Size([1, 140, 140])\n",
      "torch.Size([1, 140, 140])\n",
      "torch.Size([1, 140, 140])\n",
      "torch.Size([1, 140, 140])\n",
      "torch.Size([1, 140, 140])\n",
      "torch.Size([1, 140, 140])\n",
      "torch.Size([1, 140, 140])\n",
      "torch.Size([1, 140, 140])\n",
      "torch.Size([1, 140, 140])\n",
      "torch.Size([1, 140, 140])\n",
      "torch.Size([1, 140, 140])\n",
      "torch.Size([1, 140, 140])\n",
      "torch.Size([1, 140, 140])\n",
      "torch.Size([1, 140, 140])\n",
      "455\n",
      "torch.Size([1, 140, 140])\n",
      "torch.Size([1, 140, 140])\n",
      "torch.Size([1, 140, 140])\n",
      "torch.Size([1, 140, 140])\n",
      "torch.Size([1, 140, 140])\n",
      "torch.Size([1, 140, 140])\n",
      "torch.Size([1, 140, 140])\n",
      "torch.Size([1, 140, 140])\n",
      "torch.Size([1, 140, 140])\n",
      "torch.Size([1, 140, 140])\n",
      "torch.Size([1, 140, 140])\n",
      "torch.Size([1, 140, 140])\n",
      "torch.Size([1, 140, 140])\n",
      "469\n",
      "torch.Size([1, 140, 140])\n",
      "torch.Size([1, 140, 140])\n",
      "torch.Size([1, 140, 140])\n",
      "torch.Size([1, 140, 140])\n",
      "474\n",
      "torch.Size([1, 140, 140])\n",
      "torch.Size([1, 140, 140])\n",
      "477\n",
      "torch.Size([1, 140, 140])\n",
      "torch.Size([1, 140, 140])\n",
      "torch.Size([1, 140, 140])\n",
      "torch.Size([1, 140, 140])\n",
      "torch.Size([1, 140, 140])\n",
      "torch.Size([1, 140, 140])\n",
      "torch.Size([1, 140, 140])\n",
      "torch.Size([1, 140, 140])\n",
      "torch.Size([1, 140, 140])\n",
      "torch.Size([1, 140, 140])\n",
      "A quantidade de imgs problematicas eh:  22\n"
     ]
    }
   ],
   "source": [
    "#Classe Yoda\n",
    "DIR1=\"todas_imagens\\\\Yoda\"\n",
    "yoda=[name for name in os.listdir(DIR1) if os.path.isfile(os.path.join(DIR1, name))]\n",
    "yoda=pd.DataFrame(np.column_stack((yoda,np.array([0]*len(yoda)))),columns=[\"nome_arquivo\",\"classe\"])\n",
    "yoda_imgs=ImageDataset(yoda, DIR1, transform_imgs)\n",
    "\n",
    "cont=0\n",
    "for i in range(len(yoda_imgs)):\n",
    "    try:\n",
    "        print(yoda_imgs[i][0].shape)\n",
    "    except:\n",
    "        cont=cont+1\n",
    "        print(i)\n",
    "        img_exc=\"todas_imagens\\\\Yoda\\\\\"+yoda.iloc[i,0]\n",
    "        os.remove(img_exc)\n",
    "print(\"A quantidade de imgs problematicas eh: \", cont)\n"
   ]
  },
  {
   "cell_type": "markdown",
   "metadata": {},
   "source": [
    "# 1 tarefa"
   ]
  },
  {
   "cell_type": "markdown",
   "metadata": {},
   "source": [
    "#### Essa função realiza a separação das classes de uma forma bastante simples. Ela cria três pastas: train, val e test. Para cada uma são criadas as pastas de cada classe contendo as imagens. Basta fornecer os diretórios de entrada e saída."
   ]
  },
  {
   "cell_type": "code",
   "execution_count": 24,
   "metadata": {},
   "outputs": [
    {
     "name": "stderr",
     "output_type": "stream",
     "text": [
      "Copying files: 1799 files [00:12, 141.21 files/s]\n"
     ]
    }
   ],
   "source": [
    "splitfolders.ratio(\"todas_imagens\", output=\"divisoes\", seed=7, ratio=(0.7, 0.15,0.15))"
   ]
  },
  {
   "cell_type": "markdown",
   "metadata": {},
   "source": [
    "# 3 tarefa"
   ]
  },
  {
   "cell_type": "markdown",
   "metadata": {},
   "source": [
    "#### Agora, eu tenho que fazer um data frame pandas com duas colunas. A primeira, sendo o nome do arquivo da imagem e a segunda coluna sendo a classe da imagem. Depois, eu posso usar a classe para ler cada conjunto de imagens de treinamento, validação e teste. "
   ]
  },
  {
   "cell_type": "markdown",
   "metadata": {},
   "source": [
    "#### Dataset de treino"
   ]
  },
  {
   "cell_type": "code",
   "execution_count": 25,
   "metadata": {},
   "outputs": [],
   "source": [
    "DIR1=\"divisoes\\\\train\\\\Darth Vader\"\n",
    "darth_train=[name for name in os.listdir(DIR1) if os.path.isfile(os.path.join(DIR1, name))]\n",
    "for i in darth_train:  \n",
    "    shutil.copyfile(DIR1+\"\\\\\"+i,\"train\\\\\"+i) \n",
    "\n",
    "darth_train=np.column_stack((darth_train,np.array([0]*len(darth_train))))\n",
    "\n",
    "DIR2=\"divisoes\\\\train\\\\Stormtrooper\"\n",
    "storm_train=[name for name in os.listdir(DIR2) if os.path.isfile(os.path.join(DIR2, name))]\n",
    "for i in storm_train:  \n",
    "    shutil.copyfile(DIR2+\"\\\\\"+i,\"train\\\\\"+i) \n",
    "\n",
    "storm_train=np.column_stack((storm_train,np.array([1]*len(storm_train))))\n",
    "\n",
    "DIR3=\"divisoes\\\\train\\\\Yoda\"\n",
    "yoda_train=[name for name in os.listdir(DIR3) if os.path.isfile(os.path.join(DIR3, name))]\n",
    "for i in yoda_train:  \n",
    "    shutil.copyfile(DIR3+\"\\\\\"+i,\"train\\\\\"+i)\n",
    "    \n",
    "\n",
    "yoda_train=np.column_stack((yoda_train,np.array([2]*len(yoda_train))))\n",
    "\n",
    "train=pd.DataFrame(np.row_stack((darth_train, storm_train, yoda_train)),columns=[\"nome_arquivo\",\"classe\"])"
   ]
  },
  {
   "cell_type": "code",
   "execution_count": 26,
   "metadata": {},
   "outputs": [
    {
     "data": {
      "text/html": [
       "<div>\n",
       "<style scoped>\n",
       "    .dataframe tbody tr th:only-of-type {\n",
       "        vertical-align: middle;\n",
       "    }\n",
       "\n",
       "    .dataframe tbody tr th {\n",
       "        vertical-align: top;\n",
       "    }\n",
       "\n",
       "    .dataframe thead th {\n",
       "        text-align: right;\n",
       "    }\n",
       "</style>\n",
       "<table border=\"1\" class=\"dataframe\">\n",
       "  <thead>\n",
       "    <tr style=\"text-align: right;\">\n",
       "      <th></th>\n",
       "      <th>nome_arquivo</th>\n",
       "      <th>classe</th>\n",
       "    </tr>\n",
       "  </thead>\n",
       "  <tbody>\n",
       "    <tr>\n",
       "      <th>0</th>\n",
       "      <td>09QOG9595VK2SUI8MLH39WEKFJO6T6.jpg</td>\n",
       "      <td>0</td>\n",
       "    </tr>\n",
       "    <tr>\n",
       "      <th>1</th>\n",
       "      <td>0C2JUULO3JEZZWUQI8CFA830CNSGBY.jpg</td>\n",
       "      <td>0</td>\n",
       "    </tr>\n",
       "    <tr>\n",
       "      <th>2</th>\n",
       "      <td>0D8JE8VYG26SSQNB5CSS5VLD1JJA0O.jpg</td>\n",
       "      <td>0</td>\n",
       "    </tr>\n",
       "    <tr>\n",
       "      <th>3</th>\n",
       "      <td>0HAMYDH5AF3BA9E9DIILZYLZZT4M3N.jpg</td>\n",
       "      <td>0</td>\n",
       "    </tr>\n",
       "    <tr>\n",
       "      <th>4</th>\n",
       "      <td>0JC1XXP4QVPQV0MZW844X2FGMAO7BB.jpg</td>\n",
       "      <td>0</td>\n",
       "    </tr>\n",
       "    <tr>\n",
       "      <th>...</th>\n",
       "      <td>...</td>\n",
       "      <td>...</td>\n",
       "    </tr>\n",
       "    <tr>\n",
       "      <th>1253</th>\n",
       "      <td>ZAMSRNMQ7Y6BK56S9CB4W9I3VYT5OV.jpg</td>\n",
       "      <td>2</td>\n",
       "    </tr>\n",
       "    <tr>\n",
       "      <th>1254</th>\n",
       "      <td>ZN58L24J28X4WJI9K2W19FPRKZLMH9.jpg</td>\n",
       "      <td>2</td>\n",
       "    </tr>\n",
       "    <tr>\n",
       "      <th>1255</th>\n",
       "      <td>ZQGX3YNUHDLQSGEWRD8QVLEZQJDMHW.jpg</td>\n",
       "      <td>2</td>\n",
       "    </tr>\n",
       "    <tr>\n",
       "      <th>1256</th>\n",
       "      <td>ZSWHH2ZY0UJKJVDTWQT0BCPOGVBMT6.jpg</td>\n",
       "      <td>2</td>\n",
       "    </tr>\n",
       "    <tr>\n",
       "      <th>1257</th>\n",
       "      <td>ZY7OE2OGIARVU0RPO6M61OO8P52HT3.jpg</td>\n",
       "      <td>2</td>\n",
       "    </tr>\n",
       "  </tbody>\n",
       "</table>\n",
       "<p>1258 rows × 2 columns</p>\n",
       "</div>"
      ],
      "text/plain": [
       "                            nome_arquivo classe\n",
       "0     09QOG9595VK2SUI8MLH39WEKFJO6T6.jpg      0\n",
       "1     0C2JUULO3JEZZWUQI8CFA830CNSGBY.jpg      0\n",
       "2     0D8JE8VYG26SSQNB5CSS5VLD1JJA0O.jpg      0\n",
       "3     0HAMYDH5AF3BA9E9DIILZYLZZT4M3N.jpg      0\n",
       "4     0JC1XXP4QVPQV0MZW844X2FGMAO7BB.jpg      0\n",
       "...                                  ...    ...\n",
       "1253  ZAMSRNMQ7Y6BK56S9CB4W9I3VYT5OV.jpg      2\n",
       "1254  ZN58L24J28X4WJI9K2W19FPRKZLMH9.jpg      2\n",
       "1255  ZQGX3YNUHDLQSGEWRD8QVLEZQJDMHW.jpg      2\n",
       "1256  ZSWHH2ZY0UJKJVDTWQT0BCPOGVBMT6.jpg      2\n",
       "1257  ZY7OE2OGIARVU0RPO6M61OO8P52HT3.jpg      2\n",
       "\n",
       "[1258 rows x 2 columns]"
      ]
     },
     "execution_count": 26,
     "metadata": {},
     "output_type": "execute_result"
    }
   ],
   "source": [
    "train"
   ]
  },
  {
   "cell_type": "markdown",
   "metadata": {},
   "source": [
    "#### Dataset de validação"
   ]
  },
  {
   "cell_type": "code",
   "execution_count": 27,
   "metadata": {},
   "outputs": [],
   "source": [
    "DIR1=\"divisoes\\\\val\\\\Darth Vader\"\n",
    "darth_val=[name for name in os.listdir(DIR1) if os.path.isfile(os.path.join(DIR1, name))]\n",
    "for i in darth_val:  \n",
    "    shutil.copyfile(DIR1+\"\\\\\"+i,\"val\\\\\"+i)  \n",
    "\n",
    "darth_val=np.column_stack((darth_val,np.array([0]*len(darth_val))))\n",
    "\n",
    "DIR2=\"divisoes\\\\val\\\\Stormtrooper\"\n",
    "storm_val=[name for name in os.listdir(DIR2) if os.path.isfile(os.path.join(DIR2, name))]\n",
    "for i in storm_val:  \n",
    "    shutil.copyfile(DIR2+\"\\\\\"+i,\"val\\\\\"+i)\n",
    "storm_val=np.column_stack((storm_val, np.array([1]*len(storm_val))))\n",
    "\n",
    "DIR3=\"divisoes\\\\val\\\\Yoda\"\n",
    "yoda_val=[name for name in os.listdir(DIR3) if os.path.isfile(os.path.join(DIR3, name))]\n",
    "for i in yoda_val:  \n",
    "    shutil.copyfile(DIR3+\"\\\\\"+i,\"val\\\\\"+i)\n",
    "yoda_val=np.column_stack((yoda_val, np.array([2]*len(yoda_val))))\n",
    "\n",
    "val=pd.DataFrame(np.row_stack((darth_val, storm_val, yoda_val)),columns=[\"nome_arquivo\",\"classe\"])"
   ]
  },
  {
   "cell_type": "code",
   "execution_count": 28,
   "metadata": {},
   "outputs": [
    {
     "data": {
      "text/html": [
       "<div>\n",
       "<style scoped>\n",
       "    .dataframe tbody tr th:only-of-type {\n",
       "        vertical-align: middle;\n",
       "    }\n",
       "\n",
       "    .dataframe tbody tr th {\n",
       "        vertical-align: top;\n",
       "    }\n",
       "\n",
       "    .dataframe thead th {\n",
       "        text-align: right;\n",
       "    }\n",
       "</style>\n",
       "<table border=\"1\" class=\"dataframe\">\n",
       "  <thead>\n",
       "    <tr style=\"text-align: right;\">\n",
       "      <th></th>\n",
       "      <th>nome_arquivo</th>\n",
       "      <th>classe</th>\n",
       "    </tr>\n",
       "  </thead>\n",
       "  <tbody>\n",
       "    <tr>\n",
       "      <th>0</th>\n",
       "      <td>01AA7THV8XLSYB03H5ER3EU4G8GGTS.jpg</td>\n",
       "      <td>0</td>\n",
       "    </tr>\n",
       "    <tr>\n",
       "      <th>1</th>\n",
       "      <td>0FD1H9OE8APS591H6KZD1ARRW8MO70.jpg</td>\n",
       "      <td>0</td>\n",
       "    </tr>\n",
       "    <tr>\n",
       "      <th>2</th>\n",
       "      <td>0PODFNND4BDHYIITNLOJX3NSNWHQXJ.jpg</td>\n",
       "      <td>0</td>\n",
       "    </tr>\n",
       "    <tr>\n",
       "      <th>3</th>\n",
       "      <td>12T431ERHQF5FCRV1IJRUOUII2CAF1.jpg</td>\n",
       "      <td>0</td>\n",
       "    </tr>\n",
       "    <tr>\n",
       "      <th>4</th>\n",
       "      <td>13YDXMIOER9XKX2A66RI14ZOA1RW2T.jpg</td>\n",
       "      <td>0</td>\n",
       "    </tr>\n",
       "    <tr>\n",
       "      <th>...</th>\n",
       "      <td>...</td>\n",
       "      <td>...</td>\n",
       "    </tr>\n",
       "    <tr>\n",
       "      <th>263</th>\n",
       "      <td>WZPIPC5FFJOXZKR4TMI5IML39OAQT6.jpg</td>\n",
       "      <td>2</td>\n",
       "    </tr>\n",
       "    <tr>\n",
       "      <th>264</th>\n",
       "      <td>X1E7QBYIFP5GT9C6OL95GN2DRDF1DH.jpg</td>\n",
       "      <td>2</td>\n",
       "    </tr>\n",
       "    <tr>\n",
       "      <th>265</th>\n",
       "      <td>Y4RQXFFDU0F6H1TXICFCZ1746L5G9H.jpg</td>\n",
       "      <td>2</td>\n",
       "    </tr>\n",
       "    <tr>\n",
       "      <th>266</th>\n",
       "      <td>ZGVBQS0VT5H9ACKHTT76KBY85OJ780.jpg</td>\n",
       "      <td>2</td>\n",
       "    </tr>\n",
       "    <tr>\n",
       "      <th>267</th>\n",
       "      <td>ZTKLYNMKZ2MS1AYYVSDPK5CIFYP42T.jpg</td>\n",
       "      <td>2</td>\n",
       "    </tr>\n",
       "  </tbody>\n",
       "</table>\n",
       "<p>268 rows × 2 columns</p>\n",
       "</div>"
      ],
      "text/plain": [
       "                           nome_arquivo classe\n",
       "0    01AA7THV8XLSYB03H5ER3EU4G8GGTS.jpg      0\n",
       "1    0FD1H9OE8APS591H6KZD1ARRW8MO70.jpg      0\n",
       "2    0PODFNND4BDHYIITNLOJX3NSNWHQXJ.jpg      0\n",
       "3    12T431ERHQF5FCRV1IJRUOUII2CAF1.jpg      0\n",
       "4    13YDXMIOER9XKX2A66RI14ZOA1RW2T.jpg      0\n",
       "..                                  ...    ...\n",
       "263  WZPIPC5FFJOXZKR4TMI5IML39OAQT6.jpg      2\n",
       "264  X1E7QBYIFP5GT9C6OL95GN2DRDF1DH.jpg      2\n",
       "265  Y4RQXFFDU0F6H1TXICFCZ1746L5G9H.jpg      2\n",
       "266  ZGVBQS0VT5H9ACKHTT76KBY85OJ780.jpg      2\n",
       "267  ZTKLYNMKZ2MS1AYYVSDPK5CIFYP42T.jpg      2\n",
       "\n",
       "[268 rows x 2 columns]"
      ]
     },
     "execution_count": 28,
     "metadata": {},
     "output_type": "execute_result"
    }
   ],
   "source": [
    "val"
   ]
  },
  {
   "cell_type": "markdown",
   "metadata": {},
   "source": [
    "#### Dataset de teste"
   ]
  },
  {
   "cell_type": "code",
   "execution_count": 29,
   "metadata": {},
   "outputs": [],
   "source": [
    "DIR1=\"divisoes\\\\test\\\\Darth Vader\"\n",
    "darth_test=[name for name in os.listdir(DIR1) if os.path.isfile(os.path.join(DIR1, name))]\n",
    "for i in darth_test:  \n",
    "    shutil.copyfile(DIR1+\"\\\\\"+i,\"test\\\\\"+i) \n",
    "darth_test=np.column_stack((darth_test,np.array([0]*len(darth_test))))\n",
    "\n",
    "DIR2=\"divisoes\\\\test\\\\Stormtrooper\"\n",
    "storm_test=[name for name in os.listdir(DIR2) if os.path.isfile(os.path.join(DIR2, name))]\n",
    "for i in storm_test:  \n",
    "    shutil.copyfile(DIR2+\"\\\\\"+i,\"test\\\\\"+i) \n",
    "\n",
    "storm_test=np.column_stack((storm_test,np.array([1]*len(storm_test))))\n",
    "\n",
    "DIR3=\"divisoes\\\\test\\\\Yoda\"\n",
    "yoda_test=[name for name in os.listdir(DIR3) if os.path.isfile(os.path.join(DIR3, name))]\n",
    "for i in yoda_test:  \n",
    "    shutil.copyfile(DIR3+\"\\\\\"+i,\"test\\\\\"+i)\n",
    "\n",
    "yoda_test=np.column_stack((yoda_test,np.array([2]*len(yoda_test))))\n",
    "\n",
    "test=pd.DataFrame(np.row_stack((darth_test, storm_test, yoda_test)),columns=[\"nome_arquivo\",\"classe\"])"
   ]
  },
  {
   "cell_type": "code",
   "execution_count": 30,
   "metadata": {},
   "outputs": [
    {
     "data": {
      "text/html": [
       "<div>\n",
       "<style scoped>\n",
       "    .dataframe tbody tr th:only-of-type {\n",
       "        vertical-align: middle;\n",
       "    }\n",
       "\n",
       "    .dataframe tbody tr th {\n",
       "        vertical-align: top;\n",
       "    }\n",
       "\n",
       "    .dataframe thead th {\n",
       "        text-align: right;\n",
       "    }\n",
       "</style>\n",
       "<table border=\"1\" class=\"dataframe\">\n",
       "  <thead>\n",
       "    <tr style=\"text-align: right;\">\n",
       "      <th></th>\n",
       "      <th>nome_arquivo</th>\n",
       "      <th>classe</th>\n",
       "    </tr>\n",
       "  </thead>\n",
       "  <tbody>\n",
       "    <tr>\n",
       "      <th>0</th>\n",
       "      <td>1XSBL6H3VISD8GBTU8SWOXA1ILYJQW.jpg</td>\n",
       "      <td>0</td>\n",
       "    </tr>\n",
       "    <tr>\n",
       "      <th>1</th>\n",
       "      <td>25DQQ0Q3KI35AJMOBEMBJKRUBO8BE0.jpg</td>\n",
       "      <td>0</td>\n",
       "    </tr>\n",
       "    <tr>\n",
       "      <th>2</th>\n",
       "      <td>2C2YXTBAFM1Z55N57M5V10DQ92B7TR.jpg</td>\n",
       "      <td>0</td>\n",
       "    </tr>\n",
       "    <tr>\n",
       "      <th>3</th>\n",
       "      <td>2JTPJ742C9LOFPV2QIWACY8XA7VQ7Y.jpg</td>\n",
       "      <td>0</td>\n",
       "    </tr>\n",
       "    <tr>\n",
       "      <th>4</th>\n",
       "      <td>2K0X394DU34ZGKW0DKJXFMNRB4T04L.jpg</td>\n",
       "      <td>0</td>\n",
       "    </tr>\n",
       "    <tr>\n",
       "      <th>...</th>\n",
       "      <td>...</td>\n",
       "      <td>...</td>\n",
       "    </tr>\n",
       "    <tr>\n",
       "      <th>268</th>\n",
       "      <td>WEYAVDP32ZNKYRX5937BNIJ5AMUIE7.jpg</td>\n",
       "      <td>2</td>\n",
       "    </tr>\n",
       "    <tr>\n",
       "      <th>269</th>\n",
       "      <td>XVCTP5J32US9KW32VA4LAH5YQYXPR5.jpg</td>\n",
       "      <td>2</td>\n",
       "    </tr>\n",
       "    <tr>\n",
       "      <th>270</th>\n",
       "      <td>Y6V5OM8DAWFX3Y8SIEW43GMK11KH1U.jpg</td>\n",
       "      <td>2</td>\n",
       "    </tr>\n",
       "    <tr>\n",
       "      <th>271</th>\n",
       "      <td>YXWBBWX1AD4NHWCGUN6OO4K7CN4ZY9.jpg</td>\n",
       "      <td>2</td>\n",
       "    </tr>\n",
       "    <tr>\n",
       "      <th>272</th>\n",
       "      <td>ZG1DF6TS1KTS2SSLSWAE122NYSW04C.jpg</td>\n",
       "      <td>2</td>\n",
       "    </tr>\n",
       "  </tbody>\n",
       "</table>\n",
       "<p>273 rows × 2 columns</p>\n",
       "</div>"
      ],
      "text/plain": [
       "                           nome_arquivo classe\n",
       "0    1XSBL6H3VISD8GBTU8SWOXA1ILYJQW.jpg      0\n",
       "1    25DQQ0Q3KI35AJMOBEMBJKRUBO8BE0.jpg      0\n",
       "2    2C2YXTBAFM1Z55N57M5V10DQ92B7TR.jpg      0\n",
       "3    2JTPJ742C9LOFPV2QIWACY8XA7VQ7Y.jpg      0\n",
       "4    2K0X394DU34ZGKW0DKJXFMNRB4T04L.jpg      0\n",
       "..                                  ...    ...\n",
       "268  WEYAVDP32ZNKYRX5937BNIJ5AMUIE7.jpg      2\n",
       "269  XVCTP5J32US9KW32VA4LAH5YQYXPR5.jpg      2\n",
       "270  Y6V5OM8DAWFX3Y8SIEW43GMK11KH1U.jpg      2\n",
       "271  YXWBBWX1AD4NHWCGUN6OO4K7CN4ZY9.jpg      2\n",
       "272  ZG1DF6TS1KTS2SSLSWAE122NYSW04C.jpg      2\n",
       "\n",
       "[273 rows x 2 columns]"
      ]
     },
     "execution_count": 30,
     "metadata": {},
     "output_type": "execute_result"
    }
   ],
   "source": [
    "test"
   ]
  },
  {
   "cell_type": "markdown",
   "metadata": {},
   "source": [
    "#### Carregando as imagens para treinar o modelo"
   ]
  },
  {
   "cell_type": "code",
   "execution_count": 31,
   "metadata": {},
   "outputs": [],
   "source": [
    "train_imgs=ImageDataset(train , \"train\", transform_imgs)\n",
    "dataloader_train = torch.utils.data.DataLoader(train_imgs, batch_size=len(train_imgs), shuffle=True)\n",
    "train_imgs2, train_labels = next(iter(dataloader_train))\n",
    "\n",
    "val_imgs=ImageDataset(val , \"val\", transform_imgs)\n",
    "dataloader_val = torch.utils.data.DataLoader(val_imgs, batch_size=len(val_imgs), shuffle=True)\n",
    "val_imgs2, val_labels = next(iter(dataloader_val))\n",
    "\n",
    "test_imgs=ImageDataset(test , \"test\", transform_imgs)\n",
    "dataloader_test = torch.utils.data.DataLoader(test_imgs, batch_size=len(test_imgs), shuffle=True)\n",
    "test_imgs2, test_labels = next(iter(dataloader_test))"
   ]
  },
  {
   "cell_type": "markdown",
   "metadata": {},
   "source": [
    "#### Tamanho de cada conjunto de imagens"
   ]
  },
  {
   "cell_type": "code",
   "execution_count": 32,
   "metadata": {},
   "outputs": [
    {
     "data": {
      "text/plain": [
       "1258"
      ]
     },
     "execution_count": 32,
     "metadata": {},
     "output_type": "execute_result"
    }
   ],
   "source": [
    "len(train_imgs)"
   ]
  },
  {
   "cell_type": "code",
   "execution_count": 33,
   "metadata": {},
   "outputs": [
    {
     "data": {
      "text/plain": [
       "268"
      ]
     },
     "execution_count": 33,
     "metadata": {},
     "output_type": "execute_result"
    }
   ],
   "source": [
    "len(val_imgs)"
   ]
  },
  {
   "cell_type": "code",
   "execution_count": 34,
   "metadata": {},
   "outputs": [
    {
     "data": {
      "text/plain": [
       "273"
      ]
     },
     "execution_count": 34,
     "metadata": {},
     "output_type": "execute_result"
    }
   ],
   "source": [
    "len(test_imgs)"
   ]
  },
  {
   "cell_type": "markdown",
   "metadata": {},
   "source": [
    "#### Finalmente, carregando as imagens em um vetor 1X19600"
   ]
  },
  {
   "cell_type": "code",
   "execution_count": 35,
   "metadata": {},
   "outputs": [],
   "source": [
    "X_train=np.array([train_imgs2[i].numpy().flatten() for i in range(len(train_imgs))])\n",
    "X_val=np.array([val_imgs2[i].numpy().flatten() for i in range(len(val_imgs))])\n",
    "X_test=np.array([test_imgs2[i].numpy().flatten() for i in range(len(test_imgs))])"
   ]
  },
  {
   "cell_type": "markdown",
   "metadata": {},
   "source": [
    "#### Não vale a pena colocar todos os pixels como variáveis, então aplicarei PCA para reduzir a dimensão e consequentemente treinar a Regressão Logística mais rapidamente."
   ]
  },
  {
   "cell_type": "code",
   "execution_count": 36,
   "metadata": {},
   "outputs": [
    {
     "data": {
      "text/plain": [
       "PCA(n_components=100)"
      ]
     },
     "execution_count": 36,
     "metadata": {},
     "output_type": "execute_result"
    }
   ],
   "source": [
    "from sklearn.decomposition import PCA\n",
    "pca=PCA(n_components=100)\n",
    "pca.fit(X_train)"
   ]
  },
  {
   "cell_type": "code",
   "execution_count": 37,
   "metadata": {},
   "outputs": [],
   "source": [
    "X_train2=pca.transform(X_train)\n",
    "X_val2=pca.transform(X_val)\n",
    "X_test2=pca.transform(X_test)"
   ]
  },
  {
   "cell_type": "markdown",
   "metadata": {},
   "source": [
    "#### Variância explicada pelas componentes"
   ]
  },
  {
   "cell_type": "code",
   "execution_count": 38,
   "metadata": {},
   "outputs": [
    {
     "data": {
      "text/plain": [
       "0.8599967866439883"
      ]
     },
     "execution_count": 38,
     "metadata": {},
     "output_type": "execute_result"
    }
   ],
   "source": [
    "np.sum(pca.explained_variance_ratio_)"
   ]
  },
  {
   "cell_type": "markdown",
   "metadata": {},
   "source": [
    "#### Treino do modelo"
   ]
  },
  {
   "cell_type": "code",
   "execution_count": 39,
   "metadata": {},
   "outputs": [
    {
     "name": "stderr",
     "output_type": "stream",
     "text": [
      "C:\\Users\\Alberto\\anaconda3\\lib\\site-packages\\sklearn\\linear_model\\_logistic.py:762: ConvergenceWarning: lbfgs failed to converge (status=1):\n",
      "STOP: TOTAL NO. of ITERATIONS REACHED LIMIT.\n",
      "\n",
      "Increase the number of iterations (max_iter) or scale the data as shown in:\n",
      "    https://scikit-learn.org/stable/modules/preprocessing.html\n",
      "Please also refer to the documentation for alternative solver options:\n",
      "    https://scikit-learn.org/stable/modules/linear_model.html#logistic-regression\n",
      "  n_iter_i = _check_optimize_result(\n"
     ]
    },
    {
     "data": {
      "text/plain": [
       "LogisticRegression(max_iter=200, multi_class='multinomial')"
      ]
     },
     "execution_count": 39,
     "metadata": {},
     "output_type": "execute_result"
    }
   ],
   "source": [
    "from sklearn.linear_model import LogisticRegression\n",
    "from sklearn.metrics import accuracy_score, precision_score, recall_score\n",
    "\n",
    "model=LogisticRegression(solver=\"lbfgs\", max_iter=200, multi_class=\"multinomial\")\n",
    "model.fit(X_train2, train_labels)"
   ]
  },
  {
   "cell_type": "markdown",
   "metadata": {},
   "source": [
    "#### Calculando metricas do conjunto de treino. Serão calculadas a acurácia geral, juntamente com recall e precision de cada classe."
   ]
  },
  {
   "cell_type": "code",
   "execution_count": 40,
   "metadata": {},
   "outputs": [
    {
     "data": {
      "text/plain": [
       "0.651033386327504"
      ]
     },
     "execution_count": 40,
     "metadata": {},
     "output_type": "execute_result"
    }
   ],
   "source": [
    "accuracy_score(train_labels, model.predict(X_train2))"
   ]
  },
  {
   "cell_type": "code",
   "execution_count": 41,
   "metadata": {},
   "outputs": [
    {
     "data": {
      "text/plain": [
       "array([0.78423237, 0.68      , 0.41411043])"
      ]
     },
     "execution_count": 41,
     "metadata": {},
     "output_type": "execute_result"
    }
   ],
   "source": [
    "recall_score(train_labels, model.predict(X_train2), average=None)"
   ]
  },
  {
   "cell_type": "code",
   "execution_count": 42,
   "metadata": {},
   "outputs": [
    {
     "data": {
      "text/plain": [
       "array([0.67379679, 0.64421053, 0.60810811])"
      ]
     },
     "execution_count": 42,
     "metadata": {},
     "output_type": "execute_result"
    }
   ],
   "source": [
    "precision_score(train_labels, model.predict(X_train2), average=None)"
   ]
  },
  {
   "cell_type": "markdown",
   "metadata": {},
   "source": [
    "#### Calculando metricas do conjunto de teste. Serão calculadas a acurácia, recall e precision de cada classe."
   ]
  },
  {
   "cell_type": "code",
   "execution_count": 43,
   "metadata": {},
   "outputs": [
    {
     "data": {
      "text/plain": [
       "0.5494505494505495"
      ]
     },
     "execution_count": 43,
     "metadata": {},
     "output_type": "execute_result"
    }
   ],
   "source": [
    "accuracy_score(test_labels, model.predict(X_test2))"
   ]
  },
  {
   "cell_type": "code",
   "execution_count": 44,
   "metadata": {},
   "outputs": [
    {
     "data": {
      "text/plain": [
       "array([0.7047619 , 0.59793814, 0.25352113])"
      ]
     },
     "execution_count": 44,
     "metadata": {},
     "output_type": "execute_result"
    }
   ],
   "source": [
    "recall_score(test_labels, model.predict(X_test2), average=None)"
   ]
  },
  {
   "cell_type": "code",
   "execution_count": 45,
   "metadata": {},
   "outputs": [
    {
     "data": {
      "text/plain": [
       "array([0.59677419, 0.58      , 0.36734694])"
      ]
     },
     "execution_count": 45,
     "metadata": {},
     "output_type": "execute_result"
    }
   ],
   "source": [
    "precision_score(test_labels, model.predict(X_test2), average=None)"
   ]
  },
  {
   "cell_type": "markdown",
   "metadata": {},
   "source": [
    "### 4 Tarefa"
   ]
  },
  {
   "cell_type": "markdown",
   "metadata": {},
   "source": [
    "#### Arquitetura da CNN: Convolução -> Convolução -> Max Pooling -> Convolução -> Max Pooling -> Full Conected Layer -> Softmax 3 classes"
   ]
  },
  {
   "cell_type": "code",
   "execution_count": 46,
   "metadata": {},
   "outputs": [],
   "source": [
    "#Quantidade de elementos apos cada uso de convolução ou max polling\n",
    "#140-9=131\n",
    "#131-9=122/2=61\n",
    "#61-9=52/2=26\n",
    "class CNN(nn.Module):\n",
    "    def __init__(self):\n",
    "        super().__init__()\n",
    "        self.conv1 = nn.Conv2d(1, 3, 10)  \n",
    "        self.conv2 = nn.Conv2d(3, 4, 10)  \n",
    "        self.pool = nn.MaxPool2d(2, 2)   \n",
    "        self.conv3 = nn.Conv2d(4, 3, 10) \n",
    "        self.fc1 = nn.Linear( 3 * 26 * 26, 100)\n",
    "        self.fc2 = nn.Linear(100, 3)\n",
    "\n",
    "    def forward(self, x):\n",
    "        x = F.relu(self.conv1(x))\n",
    "        x = self.pool(F.relu(self.conv2(x)))\n",
    "        x = self.pool(F.relu(self.conv3(x)))\n",
    "        x = torch.flatten(x, 1) \n",
    "        x = F.relu(self.fc1(x))\n",
    "        x = F.softmax(self.fc2(x), 1)\n",
    "        return(x)\n",
    "\n",
    "\n",
    "cnn = CNN()"
   ]
  },
  {
   "cell_type": "markdown",
   "metadata": {},
   "source": [
    "#### Função de perda utilizada"
   ]
  },
  {
   "cell_type": "code",
   "execution_count": 47,
   "metadata": {},
   "outputs": [],
   "source": [
    "criterion = nn.CrossEntropyLoss()\n",
    "optimizer = optim.SGD(cnn.parameters(), lr=0.001, momentum=0.9)"
   ]
  },
  {
   "cell_type": "markdown",
   "metadata": {},
   "source": [
    "#### Treinamento da CNN"
   ]
  },
  {
   "cell_type": "code",
   "execution_count": 48,
   "metadata": {},
   "outputs": [
    {
     "name": "stderr",
     "output_type": "stream",
     "text": [
      "C:\\Users\\Alberto\\anaconda3\\lib\\site-packages\\torch\\nn\\functional.py:718: UserWarning: Named tensors and all their associated APIs are an experimental feature and subject to change. Please do not use them for anything important until they are released as stable. (Triggered internally at  ..\\c10/core/TensorImpl.h:1156.)\n",
      "  return torch.max_pool2d(input, kernel_size, stride, padding, dilation, ceil_mode)\n"
     ]
    },
    {
     "name": "stdout",
     "output_type": "stream",
     "text": [
      "1 Loss de treino 1.10559 || Loss de val 1.09785\n",
      "2 Loss de treino 1.10503 || Loss de val 1.09748\n",
      "3 Loss de treino 1.10401 || Loss de val 1.09678\n",
      "4 Loss de treino 1.10264 || Loss de val 1.09577\n",
      "5 Loss de treino 1.10104 || Loss de val 1.09453\n",
      "6 Loss de treino 1.09926 || Loss de val 1.09314\n",
      "7 Loss de treino 1.09738 || Loss de val 1.09159\n",
      "8 Loss de treino 1.09545 || Loss de val 1.0899\n",
      "9 Loss de treino 1.09343 || Loss de val 1.08811\n",
      "10 Loss de treino 1.0914 || Loss de val 1.08624\n",
      "11 Loss de treino 1.08942 || Loss de val 1.08433\n",
      "12 Loss de treino 1.08759 || Loss de val 1.08239\n",
      "13 Loss de treino 1.08592 || Loss de val 1.08055\n",
      "14 Loss de treino 1.08439 || Loss de val 1.07896\n",
      "15 Loss de treino 1.08296 || Loss de val 1.07764\n",
      "16 Loss de treino 1.08156 || Loss de val 1.07656\n",
      "17 Loss de treino 1.08018 || Loss de val 1.07569\n",
      "18 Loss de treino 1.07885 || Loss de val 1.07494\n",
      "19 Loss de treino 1.07751 || Loss de val 1.07418\n",
      "20 Loss de treino 1.07622 || Loss de val 1.07339\n",
      "21 Loss de treino 1.07496 || Loss de val 1.07262\n",
      "22 Loss de treino 1.07378 || Loss de val 1.07183\n",
      "23 Loss de treino 1.07262 || Loss de val 1.07095\n",
      "24 Loss de treino 1.07144 || Loss de val 1.06999\n",
      "25 Loss de treino 1.07025 || Loss de val 1.06895\n",
      "26 Loss de treino 1.06904 || Loss de val 1.0679\n",
      "27 Loss de treino 1.06783 || Loss de val 1.0668\n",
      "28 Loss de treino 1.06661 || Loss de val 1.06572\n",
      "29 Loss de treino 1.06536 || Loss de val 1.06463\n",
      "30 Loss de treino 1.06405 || Loss de val 1.06357\n"
     ]
    }
   ],
   "source": [
    "epochs = 30\n",
    "loss_train_list=[]\n",
    "loss_val_list=[]\n",
    "for epoch in range(epochs):  \n",
    "    # zera os gradientes de todas as variaveis\n",
    "    optimizer.zero_grad()\n",
    "\n",
    "    # forward + backward + optimize\n",
    "    output_train = cnn(train_imgs2.float())\n",
    "    output_val = cnn(val_imgs2.float())\n",
    "    \n",
    "    # calcula loss de treino e validação\n",
    "    loss_train = criterion(output_train, torch.tensor(np.array(train_labels).astype(\"int64\"))) \n",
    "    loss_val = criterion(output_val, torch.tensor(np.array(val_labels).astype(\"int64\")))  \n",
    "    \n",
    "    loss_train_list.append(loss_train.item())\n",
    "    loss_val_list.append(loss_val.item())\n",
    "    \n",
    "    loss_train.backward() # Computa o gradiente da loss com relação aos parametros do modelo\n",
    "    optimizer.step() # Update dos parametros\n",
    "    print(epoch + 1, \"Loss de treino\",np.round(loss_train.item(), 5)\n",
    "          ,\"|| Loss de val\", np.round(loss_val.item(), 5))"
   ]
  },
  {
   "cell_type": "code",
   "execution_count": 49,
   "metadata": {},
   "outputs": [],
   "source": [
    "# ggplot\n",
    "from plotnine import *"
   ]
  },
  {
   "cell_type": "markdown",
   "metadata": {},
   "source": [
    "#### Gráfico da loss de treino e validação. A loss de treino em azul e a loss de validação em vermelho."
   ]
  },
  {
   "cell_type": "code",
   "execution_count": 50,
   "metadata": {},
   "outputs": [
    {
     "data": {
      "image/png": "[encoded data removed]",
      "text/plain": [
       "<Figure size 640x480 with 1 Axes>"
      ]
     },
     "metadata": {},
     "output_type": "display_data"
    },
    {
     "data": {
      "text/plain": [
       "<ggplot: (148715456678)>"
      ]
     },
     "execution_count": 50,
     "metadata": {},
     "output_type": "execute_result"
    }
   ],
   "source": [
    "(ggplot()\n",
    "+geom_point(aes(x=np.arange(1, 31), y=\"loss_train_list\"))\n",
    "+geom_point(aes(x=np.arange(1, 31), y=\"loss_val_list\"))\n",
    "+geom_line(aes(x=np.arange(1, 31), y=\"loss_train_list\"), color='blue')\n",
    "+geom_line(aes(x=np.arange(1, 31), y=\"loss_val_list\"), color='darkred')\n",
    "+labs(x=\"Epocas\", y=\"Loss\")\n",
    "+theme_light())"
   ]
  },
  {
   "cell_type": "markdown",
   "metadata": {},
   "source": [
    "## Métricas no conjunto de teste"
   ]
  },
  {
   "cell_type": "code",
   "execution_count": 51,
   "metadata": {},
   "outputs": [],
   "source": [
    "output = cnn(test_imgs2.float())\n",
    "pred = torch.max(output, 1)[1].numpy()\n",
    "#loss = criterion(output, torch.tensor(np.array(test_labels).astype(\"int64\")))"
   ]
  },
  {
   "cell_type": "markdown",
   "metadata": {},
   "source": [
    "#### Acurácia geral"
   ]
  },
  {
   "cell_type": "code",
   "execution_count": 52,
   "metadata": {},
   "outputs": [
    {
     "data": {
      "text/plain": [
       "0.45"
      ]
     },
     "execution_count": 52,
     "metadata": {},
     "output_type": "execute_result"
    }
   ],
   "source": [
    "np.round(np.sum(pred==np.array(test_labels).astype(\"int64\"))/len(pred), 2)"
   ]
  },
  {
   "cell_type": "markdown",
   "metadata": {},
   "source": [
    "## Métricas da classe Darth Vader"
   ]
  },
  {
   "cell_type": "code",
   "execution_count": 53,
   "metadata": {},
   "outputs": [],
   "source": [
    "pos_darth1=np.where(pred==0)[0]\n",
    "pos_darth2=np.where(np.array(test_labels).astype(\"int64\")==0)[0]"
   ]
  },
  {
   "cell_type": "markdown",
   "metadata": {},
   "source": [
    "### Precision"
   ]
  },
  {
   "cell_type": "code",
   "execution_count": 54,
   "metadata": {},
   "outputs": [
    {
     "data": {
      "text/plain": [
       "0.42783505154639173"
      ]
     },
     "execution_count": 54,
     "metadata": {},
     "output_type": "execute_result"
    }
   ],
   "source": [
    "np.sum(np.array(test_labels).astype(\"int64\")[pos_darth1]==pred[pos_darth1])/len(pos_darth1)"
   ]
  },
  {
   "cell_type": "markdown",
   "metadata": {},
   "source": [
    "### Recall"
   ]
  },
  {
   "cell_type": "code",
   "execution_count": 55,
   "metadata": {},
   "outputs": [
    {
     "data": {
      "text/plain": [
       "0.7904761904761904"
      ]
     },
     "execution_count": 55,
     "metadata": {},
     "output_type": "execute_result"
    }
   ],
   "source": [
    "np.sum(np.array(test_labels).astype(\"int64\")[pos_darth2]==pred[pos_darth2])/len(pos_darth2)"
   ]
  },
  {
   "cell_type": "markdown",
   "metadata": {},
   "source": [
    "## Métricas da classe Stormtrooper"
   ]
  },
  {
   "cell_type": "code",
   "execution_count": 56,
   "metadata": {},
   "outputs": [],
   "source": [
    "pos_storm1=np.where(pred==1)[0]\n",
    "pos_storm2=np.where(np.array(test_labels).astype(\"int64\")==1)[0]"
   ]
  },
  {
   "cell_type": "markdown",
   "metadata": {},
   "source": [
    "### Precision"
   ]
  },
  {
   "cell_type": "code",
   "execution_count": 57,
   "metadata": {},
   "outputs": [
    {
     "data": {
      "text/plain": [
       "0.5"
      ]
     },
     "execution_count": 57,
     "metadata": {},
     "output_type": "execute_result"
    }
   ],
   "source": [
    "np.sum(np.array(test_labels).astype(\"int64\")[pos_storm1]==pred[pos_storm1])/len(pos_storm1)"
   ]
  },
  {
   "cell_type": "markdown",
   "metadata": {},
   "source": [
    "### Recall"
   ]
  },
  {
   "cell_type": "code",
   "execution_count": 58,
   "metadata": {},
   "outputs": [
    {
     "data": {
      "text/plain": [
       "0.4020618556701031"
      ]
     },
     "execution_count": 58,
     "metadata": {},
     "output_type": "execute_result"
    }
   ],
   "source": [
    "np.sum(np.array(test_labels).astype(\"int64\")[pos_storm2]==pred[pos_storm2])/len(pos_storm2)"
   ]
  },
  {
   "cell_type": "markdown",
   "metadata": {},
   "source": [
    "## Métricas da classe Yoda"
   ]
  },
  {
   "cell_type": "code",
   "execution_count": 59,
   "metadata": {},
   "outputs": [],
   "source": [
    "pos_yoda1=np.where(pred==2)[0]\n",
    "pos_yoda2=np.where(np.array(test_labels).astype(\"int64\")==2)[0]"
   ]
  },
  {
   "cell_type": "markdown",
   "metadata": {},
   "source": [
    "### Precision"
   ]
  },
  {
   "cell_type": "code",
   "execution_count": 60,
   "metadata": {},
   "outputs": [
    {
     "data": {
      "text/plain": [
       "1.0"
      ]
     },
     "execution_count": 60,
     "metadata": {},
     "output_type": "execute_result"
    }
   ],
   "source": [
    "np.sum(np.array(test_labels).astype(\"int64\")[pos_yoda1]==pred[pos_yoda1])/len(pos_yoda1)"
   ]
  },
  {
   "cell_type": "markdown",
   "metadata": {},
   "source": [
    "### Recall"
   ]
  },
  {
   "cell_type": "code",
   "execution_count": 61,
   "metadata": {},
   "outputs": [
    {
     "data": {
      "text/plain": [
       "0.014084507042253521"
      ]
     },
     "execution_count": 61,
     "metadata": {},
     "output_type": "execute_result"
    }
   ],
   "source": [
    "np.sum(np.array(test_labels).astype(\"int64\")[pos_yoda2]==pred[pos_yoda2])/len(pos_yoda2)"
   ]
  },
  {
   "cell_type": "markdown",
   "metadata": {},
   "source": [
    "# Tarefa 5"
   ]
  },
  {
   "cell_type": "markdown",
   "metadata": {},
   "source": [
    "#### Função de treino para o transfer learning"
   ]
  },
  {
   "cell_type": "code",
   "execution_count": 62,
   "metadata": {},
   "outputs": [],
   "source": [
    "import copy\n",
    "device = torch.device(\"cuda:0\" if torch.cuda.is_available() else \"cpu\")\n",
    "def train_model(model, criterion, optimizer, scheduler, num_epochs=25):\n",
    "    since = time.time()\n",
    "\n",
    "    best_model_wts = copy.deepcopy(model.state_dict())\n",
    "    best_acc = 0.0\n",
    "\n",
    "    for epoch in range(num_epochs):\n",
    "        print('Epoch {}/{}'.format(epoch, num_epochs - 1))\n",
    "        print('-' * 10)\n",
    "\n",
    "        # Each epoch has a training and validation phase\n",
    "        for phase in ['train', 'val']:\n",
    "            if phase == 'train':\n",
    "                model.train()  # Set model to training mode\n",
    "            else:\n",
    "                model.eval()   # Set model to evaluate mode\n",
    "\n",
    "            running_loss = 0.0\n",
    "            running_corrects = 0\n",
    "\n",
    "            # Iterate over data.\n",
    "            for inputs, labels in [next(iter(dataloader_train)), next(iter(dataloader_val))]:\n",
    "                #inputs = inputs.to(device)\n",
    "                #labels = labels.to(device)\n",
    "\n",
    "                # zero the parameter gradients\n",
    "                optimizer.zero_grad()\n",
    "\n",
    "                # forward\n",
    "                # track history if only in train\n",
    "                with torch.set_grad_enabled(phase == 'train'):\n",
    "                    outputs = model(inputs)\n",
    "                    _, preds = torch.max(outputs, 1)\n",
    "                    loss = criterion(outputs, labels)\n",
    "\n",
    "                    # backward + optimize only if in training phase\n",
    "                    if phase == 'train':\n",
    "                        loss.backward()\n",
    "                        optimizer.step()\n",
    "\n",
    "                # statistics\n",
    "                running_loss += loss.item() * inputs.size(0)\n",
    "                running_corrects += torch.sum(preds == labels.data)\n",
    "            if phase == 'train':\n",
    "                scheduler.step()\n",
    "\n",
    "            epoch_loss = running_loss / len(labels)\n",
    "            epoch_acc = running_corrects.double() / len(labels)\n",
    "\n",
    "            print('{} Loss: {:.4f} Acc: {:.4f}'.format(\n",
    "                phase, epoch_loss, epoch_acc))\n",
    "\n",
    "            # deep copy the model\n",
    "            if phase == 'val' and epoch_acc > best_acc:\n",
    "                best_acc = epoch_acc\n",
    "                best_model_wts = copy.deepcopy(model.state_dict())\n",
    "\n",
    "        print()\n",
    "\n",
    "    time_elapsed = time.time() - since\n",
    "    print('Training complete in {:.0f}m {:.0f}s'.format(\n",
    "        time_elapsed // 60, time_elapsed % 60))\n",
    "    print('Best val Acc: {:4f}'.format(best_acc))\n",
    "\n",
    "    # load best model weights\n",
    "    model.load_state_dict(best_model_wts)\n",
    "    return model"
   ]
  },
  {
   "cell_type": "code",
   "execution_count": 63,
   "metadata": {},
   "outputs": [],
   "source": [
    "model_ft = torchvision.models.resnet18(pretrained=True)\n",
    "num_ftrs = model_ft.fc.in_features\n",
    "# Here the size of each output sample is set to 2.\n",
    "# Alternatively, it can be generalized to nn.Linear(num_ftrs, len(class_names)).\n",
    "model_ft.fc = nn.Linear(num_ftrs, 2)\n",
    "\n",
    "model_ft = model_ft.to(device)\n",
    "\n",
    "criterion = nn.CrossEntropyLoss()"
   ]
  },
  {
   "cell_type": "code",
   "execution_count": 64,
   "metadata": {},
   "outputs": [],
   "source": [
    "# Observe that all parameters are being optimized\n",
    "optimizer_ft = optim.SGD(model_ft.parameters(), lr=0.001, momentum=0.9)\n",
    "\n",
    "# Decay LR by a factor of 0.1 every 7 epochs\n",
    "exp_lr_scheduler = lr_scheduler.StepLR(optimizer_ft, step_size=7, gamma=0.1)\n"
   ]
  },
  {
   "cell_type": "code",
   "execution_count": 65,
   "metadata": {},
   "outputs": [
    {
     "name": "stdout",
     "output_type": "stream",
     "text": [
      "Epoch 0/19\n",
      "----------\n"
     ]
    },
    {
     "ename": "RuntimeError",
     "evalue": "Given groups=1, weight of size [64, 3, 7, 7], expected input[1258, 1, 140, 140] to have 3 channels, but got 1 channels instead",
     "output_type": "error",
     "traceback": [
      "\u001b[1;31m---------------------------------------------------------------------------\u001b[0m",
      "\u001b[1;31mRuntimeError\u001b[0m                              Traceback (most recent call last)",
      "\u001b[1;32m<ipython-input-65-f336510fa5ee>\u001b[0m in \u001b[0;36m<module>\u001b[1;34m\u001b[0m\n\u001b[0;32m      1\u001b[0m \u001b[1;31m#Deu erro, nao consegui resolver o problema\u001b[0m\u001b[1;33m\u001b[0m\u001b[1;33m\u001b[0m\u001b[1;33m\u001b[0m\u001b[0m\n\u001b[1;32m----> 2\u001b[1;33m model_ft = train_model(model_ft, criterion, optimizer_ft, exp_lr_scheduler,\n\u001b[0m\u001b[0;32m      3\u001b[0m                        num_epochs=20)\n",
      "\u001b[1;32m<ipython-input-62-e618b5db6096>\u001b[0m in \u001b[0;36mtrain_model\u001b[1;34m(model, criterion, optimizer, scheduler, num_epochs)\u001b[0m\n\u001b[0;32m     32\u001b[0m                 \u001b[1;31m# track history if only in train\u001b[0m\u001b[1;33m\u001b[0m\u001b[1;33m\u001b[0m\u001b[1;33m\u001b[0m\u001b[0m\n\u001b[0;32m     33\u001b[0m                 \u001b[1;32mwith\u001b[0m \u001b[0mtorch\u001b[0m\u001b[1;33m.\u001b[0m\u001b[0mset_grad_enabled\u001b[0m\u001b[1;33m(\u001b[0m\u001b[0mphase\u001b[0m \u001b[1;33m==\u001b[0m \u001b[1;34m'train'\u001b[0m\u001b[1;33m)\u001b[0m\u001b[1;33m:\u001b[0m\u001b[1;33m\u001b[0m\u001b[1;33m\u001b[0m\u001b[0m\n\u001b[1;32m---> 34\u001b[1;33m                     \u001b[0moutputs\u001b[0m \u001b[1;33m=\u001b[0m \u001b[0mmodel\u001b[0m\u001b[1;33m(\u001b[0m\u001b[0minputs\u001b[0m\u001b[1;33m)\u001b[0m\u001b[1;33m\u001b[0m\u001b[1;33m\u001b[0m\u001b[0m\n\u001b[0m\u001b[0;32m     35\u001b[0m                     \u001b[0m_\u001b[0m\u001b[1;33m,\u001b[0m \u001b[0mpreds\u001b[0m \u001b[1;33m=\u001b[0m \u001b[0mtorch\u001b[0m\u001b[1;33m.\u001b[0m\u001b[0mmax\u001b[0m\u001b[1;33m(\u001b[0m\u001b[0moutputs\u001b[0m\u001b[1;33m,\u001b[0m \u001b[1;36m1\u001b[0m\u001b[1;33m)\u001b[0m\u001b[1;33m\u001b[0m\u001b[1;33m\u001b[0m\u001b[0m\n\u001b[0;32m     36\u001b[0m                     \u001b[0mloss\u001b[0m \u001b[1;33m=\u001b[0m \u001b[0mcriterion\u001b[0m\u001b[1;33m(\u001b[0m\u001b[0moutputs\u001b[0m\u001b[1;33m,\u001b[0m \u001b[0mlabels\u001b[0m\u001b[1;33m)\u001b[0m\u001b[1;33m\u001b[0m\u001b[1;33m\u001b[0m\u001b[0m\n",
      "\u001b[1;32m~\\anaconda3\\lib\\site-packages\\torch\\nn\\modules\\module.py\u001b[0m in \u001b[0;36m_call_impl\u001b[1;34m(self, *input, **kwargs)\u001b[0m\n\u001b[0;32m   1049\u001b[0m         if not (self._backward_hooks or self._forward_hooks or self._forward_pre_hooks or _global_backward_hooks\n\u001b[0;32m   1050\u001b[0m                 or _global_forward_hooks or _global_forward_pre_hooks):\n\u001b[1;32m-> 1051\u001b[1;33m             \u001b[1;32mreturn\u001b[0m \u001b[0mforward_call\u001b[0m\u001b[1;33m(\u001b[0m\u001b[1;33m*\u001b[0m\u001b[0minput\u001b[0m\u001b[1;33m,\u001b[0m \u001b[1;33m**\u001b[0m\u001b[0mkwargs\u001b[0m\u001b[1;33m)\u001b[0m\u001b[1;33m\u001b[0m\u001b[1;33m\u001b[0m\u001b[0m\n\u001b[0m\u001b[0;32m   1052\u001b[0m         \u001b[1;31m# Do not call functions when jit is used\u001b[0m\u001b[1;33m\u001b[0m\u001b[1;33m\u001b[0m\u001b[1;33m\u001b[0m\u001b[0m\n\u001b[0;32m   1053\u001b[0m         \u001b[0mfull_backward_hooks\u001b[0m\u001b[1;33m,\u001b[0m \u001b[0mnon_full_backward_hooks\u001b[0m \u001b[1;33m=\u001b[0m \u001b[1;33m[\u001b[0m\u001b[1;33m]\u001b[0m\u001b[1;33m,\u001b[0m \u001b[1;33m[\u001b[0m\u001b[1;33m]\u001b[0m\u001b[1;33m\u001b[0m\u001b[1;33m\u001b[0m\u001b[0m\n",
      "\u001b[1;32m~\\anaconda3\\lib\\site-packages\\torchvision\\models\\resnet.py\u001b[0m in \u001b[0;36mforward\u001b[1;34m(self, x)\u001b[0m\n\u001b[0;32m    247\u001b[0m \u001b[1;33m\u001b[0m\u001b[0m\n\u001b[0;32m    248\u001b[0m     \u001b[1;32mdef\u001b[0m \u001b[0mforward\u001b[0m\u001b[1;33m(\u001b[0m\u001b[0mself\u001b[0m\u001b[1;33m,\u001b[0m \u001b[0mx\u001b[0m\u001b[1;33m:\u001b[0m \u001b[0mTensor\u001b[0m\u001b[1;33m)\u001b[0m \u001b[1;33m->\u001b[0m \u001b[0mTensor\u001b[0m\u001b[1;33m:\u001b[0m\u001b[1;33m\u001b[0m\u001b[1;33m\u001b[0m\u001b[0m\n\u001b[1;32m--> 249\u001b[1;33m         \u001b[1;32mreturn\u001b[0m \u001b[0mself\u001b[0m\u001b[1;33m.\u001b[0m\u001b[0m_forward_impl\u001b[0m\u001b[1;33m(\u001b[0m\u001b[0mx\u001b[0m\u001b[1;33m)\u001b[0m\u001b[1;33m\u001b[0m\u001b[1;33m\u001b[0m\u001b[0m\n\u001b[0m\u001b[0;32m    250\u001b[0m \u001b[1;33m\u001b[0m\u001b[0m\n\u001b[0;32m    251\u001b[0m \u001b[1;33m\u001b[0m\u001b[0m\n",
      "\u001b[1;32m~\\anaconda3\\lib\\site-packages\\torchvision\\models\\resnet.py\u001b[0m in \u001b[0;36m_forward_impl\u001b[1;34m(self, x)\u001b[0m\n\u001b[0;32m    230\u001b[0m     \u001b[1;32mdef\u001b[0m \u001b[0m_forward_impl\u001b[0m\u001b[1;33m(\u001b[0m\u001b[0mself\u001b[0m\u001b[1;33m,\u001b[0m \u001b[0mx\u001b[0m\u001b[1;33m:\u001b[0m \u001b[0mTensor\u001b[0m\u001b[1;33m)\u001b[0m \u001b[1;33m->\u001b[0m \u001b[0mTensor\u001b[0m\u001b[1;33m:\u001b[0m\u001b[1;33m\u001b[0m\u001b[1;33m\u001b[0m\u001b[0m\n\u001b[0;32m    231\u001b[0m         \u001b[1;31m# See note [TorchScript super()]\u001b[0m\u001b[1;33m\u001b[0m\u001b[1;33m\u001b[0m\u001b[1;33m\u001b[0m\u001b[0m\n\u001b[1;32m--> 232\u001b[1;33m         \u001b[0mx\u001b[0m \u001b[1;33m=\u001b[0m \u001b[0mself\u001b[0m\u001b[1;33m.\u001b[0m\u001b[0mconv1\u001b[0m\u001b[1;33m(\u001b[0m\u001b[0mx\u001b[0m\u001b[1;33m)\u001b[0m\u001b[1;33m\u001b[0m\u001b[1;33m\u001b[0m\u001b[0m\n\u001b[0m\u001b[0;32m    233\u001b[0m         \u001b[0mx\u001b[0m \u001b[1;33m=\u001b[0m \u001b[0mself\u001b[0m\u001b[1;33m.\u001b[0m\u001b[0mbn1\u001b[0m\u001b[1;33m(\u001b[0m\u001b[0mx\u001b[0m\u001b[1;33m)\u001b[0m\u001b[1;33m\u001b[0m\u001b[1;33m\u001b[0m\u001b[0m\n\u001b[0;32m    234\u001b[0m         \u001b[0mx\u001b[0m \u001b[1;33m=\u001b[0m \u001b[0mself\u001b[0m\u001b[1;33m.\u001b[0m\u001b[0mrelu\u001b[0m\u001b[1;33m(\u001b[0m\u001b[0mx\u001b[0m\u001b[1;33m)\u001b[0m\u001b[1;33m\u001b[0m\u001b[1;33m\u001b[0m\u001b[0m\n",
      "\u001b[1;32m~\\anaconda3\\lib\\site-packages\\torch\\nn\\modules\\module.py\u001b[0m in \u001b[0;36m_call_impl\u001b[1;34m(self, *input, **kwargs)\u001b[0m\n\u001b[0;32m   1049\u001b[0m         if not (self._backward_hooks or self._forward_hooks or self._forward_pre_hooks or _global_backward_hooks\n\u001b[0;32m   1050\u001b[0m                 or _global_forward_hooks or _global_forward_pre_hooks):\n\u001b[1;32m-> 1051\u001b[1;33m             \u001b[1;32mreturn\u001b[0m \u001b[0mforward_call\u001b[0m\u001b[1;33m(\u001b[0m\u001b[1;33m*\u001b[0m\u001b[0minput\u001b[0m\u001b[1;33m,\u001b[0m \u001b[1;33m**\u001b[0m\u001b[0mkwargs\u001b[0m\u001b[1;33m)\u001b[0m\u001b[1;33m\u001b[0m\u001b[1;33m\u001b[0m\u001b[0m\n\u001b[0m\u001b[0;32m   1052\u001b[0m         \u001b[1;31m# Do not call functions when jit is used\u001b[0m\u001b[1;33m\u001b[0m\u001b[1;33m\u001b[0m\u001b[1;33m\u001b[0m\u001b[0m\n\u001b[0;32m   1053\u001b[0m         \u001b[0mfull_backward_hooks\u001b[0m\u001b[1;33m,\u001b[0m \u001b[0mnon_full_backward_hooks\u001b[0m \u001b[1;33m=\u001b[0m \u001b[1;33m[\u001b[0m\u001b[1;33m]\u001b[0m\u001b[1;33m,\u001b[0m \u001b[1;33m[\u001b[0m\u001b[1;33m]\u001b[0m\u001b[1;33m\u001b[0m\u001b[1;33m\u001b[0m\u001b[0m\n",
      "\u001b[1;32m~\\anaconda3\\lib\\site-packages\\torch\\nn\\modules\\conv.py\u001b[0m in \u001b[0;36mforward\u001b[1;34m(self, input)\u001b[0m\n\u001b[0;32m    441\u001b[0m \u001b[1;33m\u001b[0m\u001b[0m\n\u001b[0;32m    442\u001b[0m     \u001b[1;32mdef\u001b[0m \u001b[0mforward\u001b[0m\u001b[1;33m(\u001b[0m\u001b[0mself\u001b[0m\u001b[1;33m,\u001b[0m \u001b[0minput\u001b[0m\u001b[1;33m:\u001b[0m \u001b[0mTensor\u001b[0m\u001b[1;33m)\u001b[0m \u001b[1;33m->\u001b[0m \u001b[0mTensor\u001b[0m\u001b[1;33m:\u001b[0m\u001b[1;33m\u001b[0m\u001b[1;33m\u001b[0m\u001b[0m\n\u001b[1;32m--> 443\u001b[1;33m         \u001b[1;32mreturn\u001b[0m \u001b[0mself\u001b[0m\u001b[1;33m.\u001b[0m\u001b[0m_conv_forward\u001b[0m\u001b[1;33m(\u001b[0m\u001b[0minput\u001b[0m\u001b[1;33m,\u001b[0m \u001b[0mself\u001b[0m\u001b[1;33m.\u001b[0m\u001b[0mweight\u001b[0m\u001b[1;33m,\u001b[0m \u001b[0mself\u001b[0m\u001b[1;33m.\u001b[0m\u001b[0mbias\u001b[0m\u001b[1;33m)\u001b[0m\u001b[1;33m\u001b[0m\u001b[1;33m\u001b[0m\u001b[0m\n\u001b[0m\u001b[0;32m    444\u001b[0m \u001b[1;33m\u001b[0m\u001b[0m\n\u001b[0;32m    445\u001b[0m \u001b[1;32mclass\u001b[0m \u001b[0mConv3d\u001b[0m\u001b[1;33m(\u001b[0m\u001b[0m_ConvNd\u001b[0m\u001b[1;33m)\u001b[0m\u001b[1;33m:\u001b[0m\u001b[1;33m\u001b[0m\u001b[1;33m\u001b[0m\u001b[0m\n",
      "\u001b[1;32m~\\anaconda3\\lib\\site-packages\\torch\\nn\\modules\\conv.py\u001b[0m in \u001b[0;36m_conv_forward\u001b[1;34m(self, input, weight, bias)\u001b[0m\n\u001b[0;32m    437\u001b[0m                             \u001b[0mweight\u001b[0m\u001b[1;33m,\u001b[0m \u001b[0mbias\u001b[0m\u001b[1;33m,\u001b[0m \u001b[0mself\u001b[0m\u001b[1;33m.\u001b[0m\u001b[0mstride\u001b[0m\u001b[1;33m,\u001b[0m\u001b[1;33m\u001b[0m\u001b[1;33m\u001b[0m\u001b[0m\n\u001b[0;32m    438\u001b[0m                             _pair(0), self.dilation, self.groups)\n\u001b[1;32m--> 439\u001b[1;33m         return F.conv2d(input, weight, bias, self.stride,\n\u001b[0m\u001b[0;32m    440\u001b[0m                         self.padding, self.dilation, self.groups)\n\u001b[0;32m    441\u001b[0m \u001b[1;33m\u001b[0m\u001b[0m\n",
      "\u001b[1;31mRuntimeError\u001b[0m: Given groups=1, weight of size [64, 3, 7, 7], expected input[1258, 1, 140, 140] to have 3 channels, but got 1 channels instead"
     ]
    }
   ],
   "source": [
    "#Deu erro, nao consegui resolver o problema\n",
    "model_ft = train_model(model_ft, criterion, optimizer_ft, exp_lr_scheduler,\n",
    "                       num_epochs=20)"
   ]
  }
 ],
 "metadata": {
  "kernelspec": {
   "display_name": "Python 3",
   "language": "python",
   "name": "python3"
  },
  "language_info": {
   "codemirror_mode": {
    "name": "ipython",
    "version": 3
   },
   "file_extension": ".py",
   "mimetype": "text/x-python",
   "name": "python",
   "nbconvert_exporter": "python",
   "pygments_lexer": "ipython3",
   "version": "3.8.3"
  }
 },
 "nbformat": 4,
 "nbformat_minor": 4
}
